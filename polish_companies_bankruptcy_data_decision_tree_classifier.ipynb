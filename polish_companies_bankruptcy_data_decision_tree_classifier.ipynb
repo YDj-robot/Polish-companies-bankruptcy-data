{
  "nbformat": 4,
  "nbformat_minor": 0,
  "metadata": {
    "colab": {
      "provenance": [],
      "authorship_tag": "ABX9TyO6mskkZyemjmzF1VxxfwrE",
      "include_colab_link": true
    },
    "kernelspec": {
      "name": "python3",
      "display_name": "Python 3"
    },
    "language_info": {
      "name": "python"
    }
  },
  "cells": [
    {
      "cell_type": "markdown",
      "metadata": {
        "id": "view-in-github",
        "colab_type": "text"
      },
      "source": [
        "<a href=\"https://colab.research.google.com/github/YDj-robot/Polish-companies-bankruptcy-data/blob/main/polish_companies_bankruptcy_data_decision_tree_classifier.ipynb\" target=\"_parent\"><img src=\"https://colab.research.google.com/assets/colab-badge.svg\" alt=\"Open In Colab\"/></a>"
      ]
    },
    {
      "cell_type": "markdown",
      "source": [
        "#Polish companies bankruptcy data\n",
        "The dataset is about bankruptcy prediction of Polish companies.The bankrupt companies were analyzed in the period 2000-2012, while the still operating companies were evaluated from 2007 to 2013.\n",
        "- 1stYear the data contains financial rates from 1st year of the forecasting period and corresponding class label that indicates bankruptcy status after 5 years. The data contains 7027 instances (financial statements), 271 represents bankrupted companies, 6756 firms that did not bankrupt in the forecasting period."
      ],
      "metadata": {
        "id": "oLOJY_5zduET"
      }
    },
    {
      "cell_type": "code",
      "source": [
        "#!pip install kaggle\n",
        "\n",
        "import os\n",
        "import json\n",
        "import zipfile\n",
        "import pickle\n",
        "\n",
        "import matplotlib.pyplot as plt\n",
        "import pandas as pd\n",
        "import seaborn as sns\n",
        "\n",
        "from scipy.io import arff\n",
        "from google.colab import files\n",
        "from imblearn.over_sampling import RandomOverSampler\n",
        "from imblearn.under_sampling import RandomUnderSampler\n",
        "from sklearn.impute import SimpleImputer\n",
        "from sklearn.metrics import ConfusionMatrixDisplay\n",
        "from sklearn.model_selection import train_test_split\n",
        "from sklearn.pipeline import make_pipeline\n",
        "from sklearn.tree import DecisionTreeClassifier"
      ],
      "metadata": {
        "id": "sOrjC0yvdsb5"
      },
      "execution_count": 2,
      "outputs": []
    },
    {
      "cell_type": "code",
      "source": [
        "# Upload Kaggle JSON file\n",
        "uploaded = files.upload()\n",
        "\n",
        "# Set Kaggle API credentials\n",
        "kaggle_json = json.loads(uploaded['kaggle.json'].decode('utf-8'))\n",
        "os.environ['KAGGLE_USERNAME'] = kaggle_json['username']\n",
        "os.environ['KAGGLE_KEY'] = kaggle_json['key']"
      ],
      "metadata": {
        "colab": {
          "base_uri": "https://localhost:8080/",
          "height": 73
        },
        "id": "cECWi4TKeSOq",
        "outputId": "97f1ad76-a30b-41aa-f263-1c83994c5b44"
      },
      "execution_count": 3,
      "outputs": [
        {
          "output_type": "display_data",
          "data": {
            "text/plain": [
              "<IPython.core.display.HTML object>"
            ],
            "text/html": [
              "\n",
              "     <input type=\"file\" id=\"files-c994e8f8-2c7f-4a89-ae87-84cff4d85515\" name=\"files[]\" multiple disabled\n",
              "        style=\"border:none\" />\n",
              "     <output id=\"result-c994e8f8-2c7f-4a89-ae87-84cff4d85515\">\n",
              "      Upload widget is only available when the cell has been executed in the\n",
              "      current browser session. Please rerun this cell to enable.\n",
              "      </output>\n",
              "      <script>// Copyright 2017 Google LLC\n",
              "//\n",
              "// Licensed under the Apache License, Version 2.0 (the \"License\");\n",
              "// you may not use this file except in compliance with the License.\n",
              "// You may obtain a copy of the License at\n",
              "//\n",
              "//      http://www.apache.org/licenses/LICENSE-2.0\n",
              "//\n",
              "// Unless required by applicable law or agreed to in writing, software\n",
              "// distributed under the License is distributed on an \"AS IS\" BASIS,\n",
              "// WITHOUT WARRANTIES OR CONDITIONS OF ANY KIND, either express or implied.\n",
              "// See the License for the specific language governing permissions and\n",
              "// limitations under the License.\n",
              "\n",
              "/**\n",
              " * @fileoverview Helpers for google.colab Python module.\n",
              " */\n",
              "(function(scope) {\n",
              "function span(text, styleAttributes = {}) {\n",
              "  const element = document.createElement('span');\n",
              "  element.textContent = text;\n",
              "  for (const key of Object.keys(styleAttributes)) {\n",
              "    element.style[key] = styleAttributes[key];\n",
              "  }\n",
              "  return element;\n",
              "}\n",
              "\n",
              "// Max number of bytes which will be uploaded at a time.\n",
              "const MAX_PAYLOAD_SIZE = 100 * 1024;\n",
              "\n",
              "function _uploadFiles(inputId, outputId) {\n",
              "  const steps = uploadFilesStep(inputId, outputId);\n",
              "  const outputElement = document.getElementById(outputId);\n",
              "  // Cache steps on the outputElement to make it available for the next call\n",
              "  // to uploadFilesContinue from Python.\n",
              "  outputElement.steps = steps;\n",
              "\n",
              "  return _uploadFilesContinue(outputId);\n",
              "}\n",
              "\n",
              "// This is roughly an async generator (not supported in the browser yet),\n",
              "// where there are multiple asynchronous steps and the Python side is going\n",
              "// to poll for completion of each step.\n",
              "// This uses a Promise to block the python side on completion of each step,\n",
              "// then passes the result of the previous step as the input to the next step.\n",
              "function _uploadFilesContinue(outputId) {\n",
              "  const outputElement = document.getElementById(outputId);\n",
              "  const steps = outputElement.steps;\n",
              "\n",
              "  const next = steps.next(outputElement.lastPromiseValue);\n",
              "  return Promise.resolve(next.value.promise).then((value) => {\n",
              "    // Cache the last promise value to make it available to the next\n",
              "    // step of the generator.\n",
              "    outputElement.lastPromiseValue = value;\n",
              "    return next.value.response;\n",
              "  });\n",
              "}\n",
              "\n",
              "/**\n",
              " * Generator function which is called between each async step of the upload\n",
              " * process.\n",
              " * @param {string} inputId Element ID of the input file picker element.\n",
              " * @param {string} outputId Element ID of the output display.\n",
              " * @return {!Iterable<!Object>} Iterable of next steps.\n",
              " */\n",
              "function* uploadFilesStep(inputId, outputId) {\n",
              "  const inputElement = document.getElementById(inputId);\n",
              "  inputElement.disabled = false;\n",
              "\n",
              "  const outputElement = document.getElementById(outputId);\n",
              "  outputElement.innerHTML = '';\n",
              "\n",
              "  const pickedPromise = new Promise((resolve) => {\n",
              "    inputElement.addEventListener('change', (e) => {\n",
              "      resolve(e.target.files);\n",
              "    });\n",
              "  });\n",
              "\n",
              "  const cancel = document.createElement('button');\n",
              "  inputElement.parentElement.appendChild(cancel);\n",
              "  cancel.textContent = 'Cancel upload';\n",
              "  const cancelPromise = new Promise((resolve) => {\n",
              "    cancel.onclick = () => {\n",
              "      resolve(null);\n",
              "    };\n",
              "  });\n",
              "\n",
              "  // Wait for the user to pick the files.\n",
              "  const files = yield {\n",
              "    promise: Promise.race([pickedPromise, cancelPromise]),\n",
              "    response: {\n",
              "      action: 'starting',\n",
              "    }\n",
              "  };\n",
              "\n",
              "  cancel.remove();\n",
              "\n",
              "  // Disable the input element since further picks are not allowed.\n",
              "  inputElement.disabled = true;\n",
              "\n",
              "  if (!files) {\n",
              "    return {\n",
              "      response: {\n",
              "        action: 'complete',\n",
              "      }\n",
              "    };\n",
              "  }\n",
              "\n",
              "  for (const file of files) {\n",
              "    const li = document.createElement('li');\n",
              "    li.append(span(file.name, {fontWeight: 'bold'}));\n",
              "    li.append(span(\n",
              "        `(${file.type || 'n/a'}) - ${file.size} bytes, ` +\n",
              "        `last modified: ${\n",
              "            file.lastModifiedDate ? file.lastModifiedDate.toLocaleDateString() :\n",
              "                                    'n/a'} - `));\n",
              "    const percent = span('0% done');\n",
              "    li.appendChild(percent);\n",
              "\n",
              "    outputElement.appendChild(li);\n",
              "\n",
              "    const fileDataPromise = new Promise((resolve) => {\n",
              "      const reader = new FileReader();\n",
              "      reader.onload = (e) => {\n",
              "        resolve(e.target.result);\n",
              "      };\n",
              "      reader.readAsArrayBuffer(file);\n",
              "    });\n",
              "    // Wait for the data to be ready.\n",
              "    let fileData = yield {\n",
              "      promise: fileDataPromise,\n",
              "      response: {\n",
              "        action: 'continue',\n",
              "      }\n",
              "    };\n",
              "\n",
              "    // Use a chunked sending to avoid message size limits. See b/62115660.\n",
              "    let position = 0;\n",
              "    do {\n",
              "      const length = Math.min(fileData.byteLength - position, MAX_PAYLOAD_SIZE);\n",
              "      const chunk = new Uint8Array(fileData, position, length);\n",
              "      position += length;\n",
              "\n",
              "      const base64 = btoa(String.fromCharCode.apply(null, chunk));\n",
              "      yield {\n",
              "        response: {\n",
              "          action: 'append',\n",
              "          file: file.name,\n",
              "          data: base64,\n",
              "        },\n",
              "      };\n",
              "\n",
              "      let percentDone = fileData.byteLength === 0 ?\n",
              "          100 :\n",
              "          Math.round((position / fileData.byteLength) * 100);\n",
              "      percent.textContent = `${percentDone}% done`;\n",
              "\n",
              "    } while (position < fileData.byteLength);\n",
              "  }\n",
              "\n",
              "  // All done.\n",
              "  yield {\n",
              "    response: {\n",
              "      action: 'complete',\n",
              "    }\n",
              "  };\n",
              "}\n",
              "\n",
              "scope.google = scope.google || {};\n",
              "scope.google.colab = scope.google.colab || {};\n",
              "scope.google.colab._files = {\n",
              "  _uploadFiles,\n",
              "  _uploadFilesContinue,\n",
              "};\n",
              "})(self);\n",
              "</script> "
            ]
          },
          "metadata": {}
        },
        {
          "output_type": "stream",
          "name": "stdout",
          "text": [
            "Saving kaggle.json to kaggle.json\n"
          ]
        }
      ]
    },
    {
      "cell_type": "code",
      "source": [
        "!kaggle datasets download -d squintrook/forecasting-bankrupts-with-ann"
      ],
      "metadata": {
        "colab": {
          "base_uri": "https://localhost:8080/"
        },
        "id": "YvxrRAmHfCDl",
        "outputId": "4d5a87a5-ef07-41c7-fb26-bac62cf2dcf8"
      },
      "execution_count": 4,
      "outputs": [
        {
          "output_type": "stream",
          "name": "stdout",
          "text": [
            "Downloading forecasting-bankrupts-with-ann.zip to /content\n",
            "\r  0% 0.00/8.55M [00:00<?, ?B/s]\n",
            "\r100% 8.55M/8.55M [00:00<00:00, 96.1MB/s]\n"
          ]
        }
      ]
    },
    {
      "cell_type": "markdown",
      "source": [
        "##1- Prepare Data"
      ],
      "metadata": {
        "id": "51V_fWOANvE5"
      }
    },
    {
      "cell_type": "code",
      "source": [
        "def wrangle(zip_file_path):\n",
        "\n",
        "  # Create folder to extract the data\n",
        "  extracted_dir = \"data_folder\"\n",
        "  os.makedirs(extracted_dir, exist_ok=True)\n",
        "\n",
        "  # Extract the zip file and load the first file to data frame\n",
        "  with zipfile.ZipFile(zip_file_path, \"r\") as zip_ref:\n",
        "    zip_ref.extractall(path=extracted_dir)\n",
        "    all_files = zip_ref.namelist()\n",
        "    first_file = extracted_dir + \"/\" + all_files[0]\n",
        "    data, meta = arff.loadarff(first_file)\n",
        "    df = pd.DataFrame(data)\n",
        "\n",
        "  return df"
      ],
      "metadata": {
        "id": "lzhBPT32doRd"
      },
      "execution_count": 5,
      "outputs": []
    },
    {
      "cell_type": "markdown",
      "source": [
        "###1.1- Import Data\n",
        "\n"
      ],
      "metadata": {
        "id": "OCG1hLPcN0Qs"
      }
    },
    {
      "cell_type": "code",
      "source": [
        "df = wrangle(\"/content/forecasting-bankrupts-with-ann.zip\")\n",
        "df.head()"
      ],
      "metadata": {
        "id": "ruOBreHmN2-b",
        "colab": {
          "base_uri": "https://localhost:8080/",
          "height": 256
        },
        "outputId": "46f83266-8453-4b99-9316-a7a7d3647017"
      },
      "execution_count": 39,
      "outputs": [
        {
          "output_type": "execute_result",
          "data": {
            "text/plain": [
              "      Attr1    Attr2    Attr3   Attr4    Attr5    Attr6     Attr7    Attr8  \\\n",
              "0  0.200550  0.37951  0.39641  2.0472  32.3510  0.38825  0.249760  1.33050   \n",
              "1  0.209120  0.49988  0.47225  1.9447  14.7860  0.00000  0.258340  0.99601   \n",
              "2  0.248660  0.69592  0.26713  1.5548  -1.1523  0.00000  0.309060  0.43695   \n",
              "3  0.081483  0.30734  0.45879  2.4928  51.9520  0.14988  0.092704  1.86610   \n",
              "4  0.187320  0.61323  0.22960  1.4063  -7.3128  0.18732  0.187320  0.63070   \n",
              "\n",
              "    Attr9   Attr10  ...    Attr56   Attr57   Attr58    Attr59  Attr60  Attr61  \\\n",
              "0  1.1389  0.50494  ...  0.121960  0.39718  0.87804  0.001924  8.4160  5.1372   \n",
              "1  1.6996  0.49788  ...  0.121300  0.42002  0.85300  0.000000  4.1486  3.2732   \n",
              "2  1.3090  0.30408  ...  0.241140  0.81774  0.76599  0.694840  4.9909  3.9510   \n",
              "3  1.0571  0.57353  ...  0.054015  0.14207  0.94598  0.000000  4.5746  3.6147   \n",
              "4  1.1559  0.38677  ...  0.134850  0.48431  0.86515  0.124440  6.3985  4.3158   \n",
              "\n",
              "    Attr62  Attr63   Attr64  class  \n",
              "0   82.658  4.4158   7.4277   b'0'  \n",
              "1  107.350  3.4000  60.9870   b'0'  \n",
              "2  134.270  2.7185   5.2078   b'0'  \n",
              "3   86.435  4.2228   5.5497   b'0'  \n",
              "4  127.210  2.8692   7.8980   b'0'  \n",
              "\n",
              "[5 rows x 65 columns]"
            ],
            "text/html": [
              "\n",
              "  <div id=\"df-6871c71f-289c-4d72-b7ab-c515dc15ecca\" class=\"colab-df-container\">\n",
              "    <div>\n",
              "<style scoped>\n",
              "    .dataframe tbody tr th:only-of-type {\n",
              "        vertical-align: middle;\n",
              "    }\n",
              "\n",
              "    .dataframe tbody tr th {\n",
              "        vertical-align: top;\n",
              "    }\n",
              "\n",
              "    .dataframe thead th {\n",
              "        text-align: right;\n",
              "    }\n",
              "</style>\n",
              "<table border=\"1\" class=\"dataframe\">\n",
              "  <thead>\n",
              "    <tr style=\"text-align: right;\">\n",
              "      <th></th>\n",
              "      <th>Attr1</th>\n",
              "      <th>Attr2</th>\n",
              "      <th>Attr3</th>\n",
              "      <th>Attr4</th>\n",
              "      <th>Attr5</th>\n",
              "      <th>Attr6</th>\n",
              "      <th>Attr7</th>\n",
              "      <th>Attr8</th>\n",
              "      <th>Attr9</th>\n",
              "      <th>Attr10</th>\n",
              "      <th>...</th>\n",
              "      <th>Attr56</th>\n",
              "      <th>Attr57</th>\n",
              "      <th>Attr58</th>\n",
              "      <th>Attr59</th>\n",
              "      <th>Attr60</th>\n",
              "      <th>Attr61</th>\n",
              "      <th>Attr62</th>\n",
              "      <th>Attr63</th>\n",
              "      <th>Attr64</th>\n",
              "      <th>class</th>\n",
              "    </tr>\n",
              "  </thead>\n",
              "  <tbody>\n",
              "    <tr>\n",
              "      <th>0</th>\n",
              "      <td>0.200550</td>\n",
              "      <td>0.37951</td>\n",
              "      <td>0.39641</td>\n",
              "      <td>2.0472</td>\n",
              "      <td>32.3510</td>\n",
              "      <td>0.38825</td>\n",
              "      <td>0.249760</td>\n",
              "      <td>1.33050</td>\n",
              "      <td>1.1389</td>\n",
              "      <td>0.50494</td>\n",
              "      <td>...</td>\n",
              "      <td>0.121960</td>\n",
              "      <td>0.39718</td>\n",
              "      <td>0.87804</td>\n",
              "      <td>0.001924</td>\n",
              "      <td>8.4160</td>\n",
              "      <td>5.1372</td>\n",
              "      <td>82.658</td>\n",
              "      <td>4.4158</td>\n",
              "      <td>7.4277</td>\n",
              "      <td>b'0'</td>\n",
              "    </tr>\n",
              "    <tr>\n",
              "      <th>1</th>\n",
              "      <td>0.209120</td>\n",
              "      <td>0.49988</td>\n",
              "      <td>0.47225</td>\n",
              "      <td>1.9447</td>\n",
              "      <td>14.7860</td>\n",
              "      <td>0.00000</td>\n",
              "      <td>0.258340</td>\n",
              "      <td>0.99601</td>\n",
              "      <td>1.6996</td>\n",
              "      <td>0.49788</td>\n",
              "      <td>...</td>\n",
              "      <td>0.121300</td>\n",
              "      <td>0.42002</td>\n",
              "      <td>0.85300</td>\n",
              "      <td>0.000000</td>\n",
              "      <td>4.1486</td>\n",
              "      <td>3.2732</td>\n",
              "      <td>107.350</td>\n",
              "      <td>3.4000</td>\n",
              "      <td>60.9870</td>\n",
              "      <td>b'0'</td>\n",
              "    </tr>\n",
              "    <tr>\n",
              "      <th>2</th>\n",
              "      <td>0.248660</td>\n",
              "      <td>0.69592</td>\n",
              "      <td>0.26713</td>\n",
              "      <td>1.5548</td>\n",
              "      <td>-1.1523</td>\n",
              "      <td>0.00000</td>\n",
              "      <td>0.309060</td>\n",
              "      <td>0.43695</td>\n",
              "      <td>1.3090</td>\n",
              "      <td>0.30408</td>\n",
              "      <td>...</td>\n",
              "      <td>0.241140</td>\n",
              "      <td>0.81774</td>\n",
              "      <td>0.76599</td>\n",
              "      <td>0.694840</td>\n",
              "      <td>4.9909</td>\n",
              "      <td>3.9510</td>\n",
              "      <td>134.270</td>\n",
              "      <td>2.7185</td>\n",
              "      <td>5.2078</td>\n",
              "      <td>b'0'</td>\n",
              "    </tr>\n",
              "    <tr>\n",
              "      <th>3</th>\n",
              "      <td>0.081483</td>\n",
              "      <td>0.30734</td>\n",
              "      <td>0.45879</td>\n",
              "      <td>2.4928</td>\n",
              "      <td>51.9520</td>\n",
              "      <td>0.14988</td>\n",
              "      <td>0.092704</td>\n",
              "      <td>1.86610</td>\n",
              "      <td>1.0571</td>\n",
              "      <td>0.57353</td>\n",
              "      <td>...</td>\n",
              "      <td>0.054015</td>\n",
              "      <td>0.14207</td>\n",
              "      <td>0.94598</td>\n",
              "      <td>0.000000</td>\n",
              "      <td>4.5746</td>\n",
              "      <td>3.6147</td>\n",
              "      <td>86.435</td>\n",
              "      <td>4.2228</td>\n",
              "      <td>5.5497</td>\n",
              "      <td>b'0'</td>\n",
              "    </tr>\n",
              "    <tr>\n",
              "      <th>4</th>\n",
              "      <td>0.187320</td>\n",
              "      <td>0.61323</td>\n",
              "      <td>0.22960</td>\n",
              "      <td>1.4063</td>\n",
              "      <td>-7.3128</td>\n",
              "      <td>0.18732</td>\n",
              "      <td>0.187320</td>\n",
              "      <td>0.63070</td>\n",
              "      <td>1.1559</td>\n",
              "      <td>0.38677</td>\n",
              "      <td>...</td>\n",
              "      <td>0.134850</td>\n",
              "      <td>0.48431</td>\n",
              "      <td>0.86515</td>\n",
              "      <td>0.124440</td>\n",
              "      <td>6.3985</td>\n",
              "      <td>4.3158</td>\n",
              "      <td>127.210</td>\n",
              "      <td>2.8692</td>\n",
              "      <td>7.8980</td>\n",
              "      <td>b'0'</td>\n",
              "    </tr>\n",
              "  </tbody>\n",
              "</table>\n",
              "<p>5 rows × 65 columns</p>\n",
              "</div>\n",
              "    <div class=\"colab-df-buttons\">\n",
              "\n",
              "  <div class=\"colab-df-container\">\n",
              "    <button class=\"colab-df-convert\" onclick=\"convertToInteractive('df-6871c71f-289c-4d72-b7ab-c515dc15ecca')\"\n",
              "            title=\"Convert this dataframe to an interactive table.\"\n",
              "            style=\"display:none;\">\n",
              "\n",
              "  <svg xmlns=\"http://www.w3.org/2000/svg\" height=\"24px\" viewBox=\"0 -960 960 960\">\n",
              "    <path d=\"M120-120v-720h720v720H120Zm60-500h600v-160H180v160Zm220 220h160v-160H400v160Zm0 220h160v-160H400v160ZM180-400h160v-160H180v160Zm440 0h160v-160H620v160ZM180-180h160v-160H180v160Zm440 0h160v-160H620v160Z\"/>\n",
              "  </svg>\n",
              "    </button>\n",
              "\n",
              "  <style>\n",
              "    .colab-df-container {\n",
              "      display:flex;\n",
              "      gap: 12px;\n",
              "    }\n",
              "\n",
              "    .colab-df-convert {\n",
              "      background-color: #E8F0FE;\n",
              "      border: none;\n",
              "      border-radius: 50%;\n",
              "      cursor: pointer;\n",
              "      display: none;\n",
              "      fill: #1967D2;\n",
              "      height: 32px;\n",
              "      padding: 0 0 0 0;\n",
              "      width: 32px;\n",
              "    }\n",
              "\n",
              "    .colab-df-convert:hover {\n",
              "      background-color: #E2EBFA;\n",
              "      box-shadow: 0px 1px 2px rgba(60, 64, 67, 0.3), 0px 1px 3px 1px rgba(60, 64, 67, 0.15);\n",
              "      fill: #174EA6;\n",
              "    }\n",
              "\n",
              "    .colab-df-buttons div {\n",
              "      margin-bottom: 4px;\n",
              "    }\n",
              "\n",
              "    [theme=dark] .colab-df-convert {\n",
              "      background-color: #3B4455;\n",
              "      fill: #D2E3FC;\n",
              "    }\n",
              "\n",
              "    [theme=dark] .colab-df-convert:hover {\n",
              "      background-color: #434B5C;\n",
              "      box-shadow: 0px 1px 3px 1px rgba(0, 0, 0, 0.15);\n",
              "      filter: drop-shadow(0px 1px 2px rgba(0, 0, 0, 0.3));\n",
              "      fill: #FFFFFF;\n",
              "    }\n",
              "  </style>\n",
              "\n",
              "    <script>\n",
              "      const buttonEl =\n",
              "        document.querySelector('#df-6871c71f-289c-4d72-b7ab-c515dc15ecca button.colab-df-convert');\n",
              "      buttonEl.style.display =\n",
              "        google.colab.kernel.accessAllowed ? 'block' : 'none';\n",
              "\n",
              "      async function convertToInteractive(key) {\n",
              "        const element = document.querySelector('#df-6871c71f-289c-4d72-b7ab-c515dc15ecca');\n",
              "        const dataTable =\n",
              "          await google.colab.kernel.invokeFunction('convertToInteractive',\n",
              "                                                    [key], {});\n",
              "        if (!dataTable) return;\n",
              "\n",
              "        const docLinkHtml = 'Like what you see? Visit the ' +\n",
              "          '<a target=\"_blank\" href=https://colab.research.google.com/notebooks/data_table.ipynb>data table notebook</a>'\n",
              "          + ' to learn more about interactive tables.';\n",
              "        element.innerHTML = '';\n",
              "        dataTable['output_type'] = 'display_data';\n",
              "        await google.colab.output.renderOutput(dataTable, element);\n",
              "        const docLink = document.createElement('div');\n",
              "        docLink.innerHTML = docLinkHtml;\n",
              "        element.appendChild(docLink);\n",
              "      }\n",
              "    </script>\n",
              "  </div>\n",
              "\n",
              "\n",
              "<div id=\"df-74fbc34d-f548-438e-880d-fe81b356aad0\">\n",
              "  <button class=\"colab-df-quickchart\" onclick=\"quickchart('df-74fbc34d-f548-438e-880d-fe81b356aad0')\"\n",
              "            title=\"Suggest charts\"\n",
              "            style=\"display:none;\">\n",
              "\n",
              "<svg xmlns=\"http://www.w3.org/2000/svg\" height=\"24px\"viewBox=\"0 0 24 24\"\n",
              "     width=\"24px\">\n",
              "    <g>\n",
              "        <path d=\"M19 3H5c-1.1 0-2 .9-2 2v14c0 1.1.9 2 2 2h14c1.1 0 2-.9 2-2V5c0-1.1-.9-2-2-2zM9 17H7v-7h2v7zm4 0h-2V7h2v10zm4 0h-2v-4h2v4z\"/>\n",
              "    </g>\n",
              "</svg>\n",
              "  </button>\n",
              "\n",
              "<style>\n",
              "  .colab-df-quickchart {\n",
              "      --bg-color: #E8F0FE;\n",
              "      --fill-color: #1967D2;\n",
              "      --hover-bg-color: #E2EBFA;\n",
              "      --hover-fill-color: #174EA6;\n",
              "      --disabled-fill-color: #AAA;\n",
              "      --disabled-bg-color: #DDD;\n",
              "  }\n",
              "\n",
              "  [theme=dark] .colab-df-quickchart {\n",
              "      --bg-color: #3B4455;\n",
              "      --fill-color: #D2E3FC;\n",
              "      --hover-bg-color: #434B5C;\n",
              "      --hover-fill-color: #FFFFFF;\n",
              "      --disabled-bg-color: #3B4455;\n",
              "      --disabled-fill-color: #666;\n",
              "  }\n",
              "\n",
              "  .colab-df-quickchart {\n",
              "    background-color: var(--bg-color);\n",
              "    border: none;\n",
              "    border-radius: 50%;\n",
              "    cursor: pointer;\n",
              "    display: none;\n",
              "    fill: var(--fill-color);\n",
              "    height: 32px;\n",
              "    padding: 0;\n",
              "    width: 32px;\n",
              "  }\n",
              "\n",
              "  .colab-df-quickchart:hover {\n",
              "    background-color: var(--hover-bg-color);\n",
              "    box-shadow: 0 1px 2px rgba(60, 64, 67, 0.3), 0 1px 3px 1px rgba(60, 64, 67, 0.15);\n",
              "    fill: var(--button-hover-fill-color);\n",
              "  }\n",
              "\n",
              "  .colab-df-quickchart-complete:disabled,\n",
              "  .colab-df-quickchart-complete:disabled:hover {\n",
              "    background-color: var(--disabled-bg-color);\n",
              "    fill: var(--disabled-fill-color);\n",
              "    box-shadow: none;\n",
              "  }\n",
              "\n",
              "  .colab-df-spinner {\n",
              "    border: 2px solid var(--fill-color);\n",
              "    border-color: transparent;\n",
              "    border-bottom-color: var(--fill-color);\n",
              "    animation:\n",
              "      spin 1s steps(1) infinite;\n",
              "  }\n",
              "\n",
              "  @keyframes spin {\n",
              "    0% {\n",
              "      border-color: transparent;\n",
              "      border-bottom-color: var(--fill-color);\n",
              "      border-left-color: var(--fill-color);\n",
              "    }\n",
              "    20% {\n",
              "      border-color: transparent;\n",
              "      border-left-color: var(--fill-color);\n",
              "      border-top-color: var(--fill-color);\n",
              "    }\n",
              "    30% {\n",
              "      border-color: transparent;\n",
              "      border-left-color: var(--fill-color);\n",
              "      border-top-color: var(--fill-color);\n",
              "      border-right-color: var(--fill-color);\n",
              "    }\n",
              "    40% {\n",
              "      border-color: transparent;\n",
              "      border-right-color: var(--fill-color);\n",
              "      border-top-color: var(--fill-color);\n",
              "    }\n",
              "    60% {\n",
              "      border-color: transparent;\n",
              "      border-right-color: var(--fill-color);\n",
              "    }\n",
              "    80% {\n",
              "      border-color: transparent;\n",
              "      border-right-color: var(--fill-color);\n",
              "      border-bottom-color: var(--fill-color);\n",
              "    }\n",
              "    90% {\n",
              "      border-color: transparent;\n",
              "      border-bottom-color: var(--fill-color);\n",
              "    }\n",
              "  }\n",
              "</style>\n",
              "\n",
              "  <script>\n",
              "    async function quickchart(key) {\n",
              "      const quickchartButtonEl =\n",
              "        document.querySelector('#' + key + ' button');\n",
              "      quickchartButtonEl.disabled = true;  // To prevent multiple clicks.\n",
              "      quickchartButtonEl.classList.add('colab-df-spinner');\n",
              "      try {\n",
              "        const charts = await google.colab.kernel.invokeFunction(\n",
              "            'suggestCharts', [key], {});\n",
              "      } catch (error) {\n",
              "        console.error('Error during call to suggestCharts:', error);\n",
              "      }\n",
              "      quickchartButtonEl.classList.remove('colab-df-spinner');\n",
              "      quickchartButtonEl.classList.add('colab-df-quickchart-complete');\n",
              "    }\n",
              "    (() => {\n",
              "      let quickchartButtonEl =\n",
              "        document.querySelector('#df-74fbc34d-f548-438e-880d-fe81b356aad0 button');\n",
              "      quickchartButtonEl.style.display =\n",
              "        google.colab.kernel.accessAllowed ? 'block' : 'none';\n",
              "    })();\n",
              "  </script>\n",
              "</div>\n",
              "\n",
              "    </div>\n",
              "  </div>\n"
            ]
          },
          "metadata": {},
          "execution_count": 39
        }
      ]
    },
    {
      "cell_type": "markdown",
      "source": [
        "###1.2- Explore Data\n"
      ],
      "metadata": {
        "id": "-x6d9cAkN3fY"
      }
    },
    {
      "cell_type": "code",
      "source": [
        "print(\"Shape: \", df.shape)"
      ],
      "metadata": {
        "id": "r2wl_7tbN7Hj",
        "colab": {
          "base_uri": "https://localhost:8080/"
        },
        "outputId": "1183c194-1624-4a38-b269-ccc40838ac58"
      },
      "execution_count": 40,
      "outputs": [
        {
          "output_type": "stream",
          "name": "stdout",
          "text": [
            "Shape:  (7027, 65)\n"
          ]
        }
      ]
    },
    {
      "cell_type": "code",
      "source": [
        "df.info()"
      ],
      "metadata": {
        "colab": {
          "base_uri": "https://localhost:8080/"
        },
        "id": "4kE6iPjIBBh2",
        "outputId": "1950a0ea-266d-4283-b4b9-76e2ae9d0721"
      },
      "execution_count": 41,
      "outputs": [
        {
          "output_type": "stream",
          "name": "stdout",
          "text": [
            "<class 'pandas.core.frame.DataFrame'>\n",
            "RangeIndex: 7027 entries, 0 to 7026\n",
            "Data columns (total 65 columns):\n",
            " #   Column  Non-Null Count  Dtype  \n",
            "---  ------  --------------  -----  \n",
            " 0   Attr1   7024 non-null   float64\n",
            " 1   Attr2   7024 non-null   float64\n",
            " 2   Attr3   7024 non-null   float64\n",
            " 3   Attr4   6997 non-null   float64\n",
            " 4   Attr5   7019 non-null   float64\n",
            " 5   Attr6   7024 non-null   float64\n",
            " 6   Attr7   7024 non-null   float64\n",
            " 7   Attr8   7002 non-null   float64\n",
            " 8   Attr9   7026 non-null   float64\n",
            " 9   Attr10  7024 non-null   float64\n",
            " 10  Attr11  6988 non-null   float64\n",
            " 11  Attr12  6997 non-null   float64\n",
            " 12  Attr13  7027 non-null   float64\n",
            " 13  Attr14  7024 non-null   float64\n",
            " 14  Attr15  7025 non-null   float64\n",
            " 15  Attr16  7002 non-null   float64\n",
            " 16  Attr17  7002 non-null   float64\n",
            " 17  Attr18  7024 non-null   float64\n",
            " 18  Attr19  7027 non-null   float64\n",
            " 19  Attr20  7027 non-null   float64\n",
            " 20  Attr21  5405 non-null   float64\n",
            " 21  Attr22  7024 non-null   float64\n",
            " 22  Attr23  7027 non-null   float64\n",
            " 23  Attr24  6903 non-null   float64\n",
            " 24  Attr25  7024 non-null   float64\n",
            " 25  Attr26  7002 non-null   float64\n",
            " 26  Attr27  6716 non-null   float64\n",
            " 27  Attr28  6993 non-null   float64\n",
            " 28  Attr29  7024 non-null   float64\n",
            " 29  Attr30  7027 non-null   float64\n",
            " 30  Attr31  7027 non-null   float64\n",
            " 31  Attr32  6989 non-null   float64\n",
            " 32  Attr33  6997 non-null   float64\n",
            " 33  Attr34  7002 non-null   float64\n",
            " 34  Attr35  7024 non-null   float64\n",
            " 35  Attr36  7024 non-null   float64\n",
            " 36  Attr37  4287 non-null   float64\n",
            " 37  Attr38  7024 non-null   float64\n",
            " 38  Attr39  7027 non-null   float64\n",
            " 39  Attr40  6997 non-null   float64\n",
            " 40  Attr41  6943 non-null   float64\n",
            " 41  Attr42  7027 non-null   float64\n",
            " 42  Attr43  7027 non-null   float64\n",
            " 43  Attr44  7027 non-null   float64\n",
            " 44  Attr45  6893 non-null   float64\n",
            " 45  Attr46  6996 non-null   float64\n",
            " 46  Attr47  6998 non-null   float64\n",
            " 47  Attr48  7024 non-null   float64\n",
            " 48  Attr49  7027 non-null   float64\n",
            " 49  Attr50  7002 non-null   float64\n",
            " 50  Attr51  7024 non-null   float64\n",
            " 51  Attr52  6998 non-null   float64\n",
            " 52  Attr53  6993 non-null   float64\n",
            " 53  Attr54  6993 non-null   float64\n",
            " 54  Attr55  7027 non-null   float64\n",
            " 55  Attr56  7027 non-null   float64\n",
            " 56  Attr57  7026 non-null   float64\n",
            " 57  Attr58  7027 non-null   float64\n",
            " 58  Attr59  7026 non-null   float64\n",
            " 59  Attr60  6892 non-null   float64\n",
            " 60  Attr61  7005 non-null   float64\n",
            " 61  Attr62  7027 non-null   float64\n",
            " 62  Attr63  6997 non-null   float64\n",
            " 63  Attr64  6993 non-null   float64\n",
            " 64  class   7027 non-null   object \n",
            "dtypes: float64(64), object(1)\n",
            "memory usage: 3.5+ MB\n"
          ]
        }
      ]
    },
    {
      "cell_type": "code",
      "source": [
        "mapping = {b'0': False, b'1': True}  # Customize for your needs\n",
        "df[\"class\"] = df[\"class\"].map(mapping)"
      ],
      "metadata": {
        "id": "sEcrDu2fcOZk"
      },
      "execution_count": 42,
      "outputs": []
    },
    {
      "cell_type": "code",
      "source": [
        "df[\"class\"].value_counts(normalize=True).plot(\n",
        "    kind=\"bar\",\n",
        "    xlabel=\"class\",\n",
        "    ylabel=\"Frequency\",\n",
        "    title=\"Class Balance\"\n",
        ");"
      ],
      "metadata": {
        "colab": {
          "base_uri": "https://localhost:8080/",
          "height": 493
        },
        "id": "e84DZ0o6Ax56",
        "outputId": "3efd6b41-fef4-4473-e09a-a93325b549e6"
      },
      "execution_count": 43,
      "outputs": [
        {
          "output_type": "display_data",
          "data": {
            "text/plain": [
              "<Figure size 640x480 with 1 Axes>"
            ],
            "image/png": "[encoded data removed]"
          },
          "metadata": {}
        }
      ]
    },
    {
      "cell_type": "markdown",
      "source": [
        "**Attr27 (profit on operating activities / financial expenses)**\n",
        "<br>\n",
        "The ratio of Profit on Operating Activities to Financial Expenses is a financial metric that evaluates a company's ability to cover its financial expenses with the profit generated from its core operating activities. It provides insight into how well a company's operating profit supports its financial obligations such as interest payments.\n",
        "<br>\n",
        "\n",
        "*  A higher ratio suggests that the profit from operating activities is more than sufficient to cover financial expenses, indicating good financial health and the ability to meet debt obligations.\n",
        "*   On the other hand, a lower ratio may signal potential challenges in meeting financial obligations through operating profits alone.\n",
        "\n",
        "<br>\n",
        "It's important to note that the interpretation of this ratio can vary across industries, and it is often used in conjunction with other financial ratios and metrics for a more comprehensive analysis of a company's financial performance and risk."
      ],
      "metadata": {
        "id": "nFhqOsdlDZzy"
      }
    },
    {
      "cell_type": "code",
      "source": [
        "sns.boxplot(x=\"class\", y=\"Attr27\", data=df)\n",
        "plt.xlabel(\"class\")\n",
        "plt.ylabel(\"profit on operating activities / financial expenses\")\n",
        "plt.title(\"Distribution of Profit/Expenses Ratio, by Class\");"
      ],
      "metadata": {
        "colab": {
          "base_uri": "https://localhost:8080/",
          "height": 472
        },
        "id": "99wwDNDbyVuT",
        "outputId": "8d91b2b2-c71d-42e1-bb8a-523f2bf4a7f2"
      },
      "execution_count": 44,
      "outputs": [
        {
          "output_type": "display_data",
          "data": {
            "text/plain": [
              "<Figure size 640x480 with 1 Axes>"
            ],
            "image/png": "[encoded data removed]"
          },
          "metadata": {}
        }
      ]
    },
    {
      "cell_type": "code",
      "source": [
        "# Summary statistics for `Attr27`\n",
        "df[\"Attr27\"].describe().apply(\"{0:,.0f}\".format)"
      ],
      "metadata": {
        "colab": {
          "base_uri": "https://localhost:8080/"
        },
        "id": "xKbN0yyB1Lk5",
        "outputId": "2fe9b6b0-3971-436b-87e9-97da09b77101"
      },
      "execution_count": 45,
      "outputs": [
        {
          "output_type": "execute_result",
          "data": {
            "text/plain": [
              "count        6,716\n",
              "mean         1,322\n",
              "std         35,504\n",
              "min        -14,790\n",
              "25%              0\n",
              "50%              1\n",
              "75%              6\n",
              "max      2,040,800\n",
              "Name: Attr27, dtype: object"
            ]
          },
          "metadata": {},
          "execution_count": 45
        }
      ]
    },
    {
      "cell_type": "markdown",
      "source": [
        "The median is around 1, but the mean is over 1000. That suggests that this feature is skewed to the right. Let's make a histogram to see what the distribution actually looks like."
      ],
      "metadata": {
        "id": "7oVmlDRV1X1Y"
      }
    },
    {
      "cell_type": "code",
      "source": [
        "df[\"Attr27\"].hist()\n",
        "plt.xlabel(\"POA / financial expenses\")\n",
        "plt.ylabel(\"Count\"),\n",
        "plt.title(\"Distribution of Profit/Expenses Ratio\");"
      ],
      "metadata": {
        "colab": {
          "base_uri": "https://localhost:8080/",
          "height": 472
        },
        "id": "zS01L7A61-fr",
        "outputId": "416b0f56-dfe3-4c10-c0f0-c2c7e6e75bb4"
      },
      "execution_count": 46,
      "outputs": [
        {
          "output_type": "display_data",
          "data": {
            "text/plain": [
              "<Figure size 640x480 with 1 Axes>"
            ],
            "image/png": "[encoded data removed]"
          },
          "metadata": {}
        }
      ]
    },
    {
      "cell_type": "code",
      "source": [
        "# Create clipped boxplot\n",
        "q1, q9 = df[\"Attr27\"].quantile([0.1, 0.9])\n",
        "mask = df[\"Attr27\"].between(q1, q9)\n",
        "sns.boxplot(x=\"class\", y=\"Attr27\", data=df[mask])\n",
        "plt.xlabel(\"Class\")\n",
        "plt.ylabel(\"profit on operating activities / financial expenses\")\n",
        "plt.title(\"Distribution of Profit/Expenses Ratio, by Class\");"
      ],
      "metadata": {
        "colab": {
          "base_uri": "https://localhost:8080/",
          "height": 472
        },
        "id": "Q7qI7EsJ5Xhj",
        "outputId": "6a4a1090-cefd-41ab-9588-71eeec352a39"
      },
      "execution_count": 47,
      "outputs": [
        {
          "output_type": "display_data",
          "data": {
            "text/plain": [
              "<Figure size 640x480 with 1 Axes>"
            ],
            "image/png": "[encoded data removed]"
          },
          "metadata": {}
        }
      ]
    },
    {
      "cell_type": "markdown",
      "source": [
        "***Attr7 (EBIT / total assets)***\n",
        "<br>The ratio EBIT (Earnings Before Interest and Taxes) to Total Assets is a financial metric that assesses a company's operational profitability in relation to its total assets. It is a measure of how efficiently a company generates earnings from its assets before considering interest and taxes.<br>\n",
        "The formula for the EBIT/Total Assets ratio is:\n",
        "<br>\n",
        "\\begin{equation}\n",
        "\\text{EBIT/Total Assets} = \\frac{\\text{EBIT}}{\\text{Total Assets}}\n",
        "\\end{equation}\n",
        "\n",
        "where:\n",
        "\n",
        "*   EBIT is the Earnings Before Interest and Taxes, which represents a company's operating profit.\n",
        "*   Total Assets refer to the sum of all assets owned or used by the company.\n",
        "\n",
        "A higher EBIT/Total Assets ratio indicates that a company is generating more earnings from its assets, suggesting better operational efficiency. Conversely, a lower ratio may indicate lower profitability relative to the total assets employed.\n",
        "\n",
        "\n",
        "\n",
        "\n"
      ],
      "metadata": {
        "id": "hBnMfWxC_RUm"
      }
    },
    {
      "cell_type": "code",
      "source": [
        "# Summary statistics for `Attr7`\n",
        "df[\"Attr7\"].describe()"
      ],
      "metadata": {
        "colab": {
          "base_uri": "https://localhost:8080/"
        },
        "id": "bH5XgytIDNUM",
        "outputId": "6aef45ad-e267-42c2-d90b-47f4987bb6f8"
      },
      "execution_count": 48,
      "outputs": [
        {
          "output_type": "execute_result",
          "data": {
            "text/plain": [
              "count    7024.000000\n",
              "mean        0.313876\n",
              "std         8.353274\n",
              "min      -189.560000\n",
              "25%         0.028023\n",
              "50%         0.090109\n",
              "75%         0.188667\n",
              "max       453.770000\n",
              "Name: Attr7, dtype: float64"
            ]
          },
          "metadata": {},
          "execution_count": 48
        }
      ]
    },
    {
      "cell_type": "code",
      "source": [
        "# Create clipped boxplot\n",
        "q1, q9 = df[\"Attr7\"].quantile([0.1, 0.9])\n",
        "mask = df[\"Attr7\"].between(q1, q9)\n",
        "sns.boxplot(x=\"class\", y=\"Attr7\", data=df[mask])\n",
        "plt.xlabel(\"Class\")\n",
        "plt.ylabel(\"EBIT / total assets\")\n",
        "plt.title(\"Distribution of EBIT / total assets Ratio, by Class\");"
      ],
      "metadata": {
        "colab": {
          "base_uri": "https://localhost:8080/",
          "height": 472
        },
        "id": "uorCLw7nFTzb",
        "outputId": "311c1cae-80d9-4032-d578-899e742fdb5e"
      },
      "execution_count": 49,
      "outputs": [
        {
          "output_type": "display_data",
          "data": {
            "text/plain": [
              "<Figure size 640x480 with 1 Axes>"
            ],
            "image/png": "[encoded data removed]"
          },
          "metadata": {}
        }
      ]
    },
    {
      "cell_type": "code",
      "source": [
        "df[\"Attr7\"].hist()\n",
        "plt.xlabel(\"EBIT / total assets\")\n",
        "plt.ylabel(\"Count\"),\n",
        "plt.title(\"Distribution of EBIT / total assets Ratio\");"
      ],
      "metadata": {
        "colab": {
          "base_uri": "https://localhost:8080/",
          "height": 472
        },
        "id": "BORT192JFoiu",
        "outputId": "2dadb6de-a093-4151-c023-d9e858172760"
      },
      "execution_count": 50,
      "outputs": [
        {
          "output_type": "display_data",
          "data": {
            "text/plain": [
              "<Figure size 640x480 with 1 Axes>"
            ],
            "image/png": "[encoded data removed]"
          },
          "metadata": {}
        }
      ]
    },
    {
      "cell_type": "markdown",
      "source": [
        "***Multicollinearity Check:*** Correlation Heatmap"
      ],
      "metadata": {
        "id": "B26yYwC5If8O"
      }
    },
    {
      "cell_type": "code",
      "source": [
        "corr = df.drop(columns=\"class\").corr()\n",
        "sns.heatmap(corr);"
      ],
      "metadata": {
        "colab": {
          "base_uri": "https://localhost:8080/",
          "height": 465
        },
        "id": "f0HLM8TpNG3R",
        "outputId": "1e25515c-dec3-42ff-faba-520285b3ebe4"
      },
      "execution_count": 51,
      "outputs": [
        {
          "output_type": "display_data",
          "data": {
            "text/plain": [
              "<Figure size 640x480 with 2 Axes>"
            ],
            "image/png": "[encoded data removed]"
          },
          "metadata": {}
        }
      ]
    },
    {
      "cell_type": "markdown",
      "source": [
        "EDA:\n",
        "\n",
        "*   First, our data is imbalanced. This is something we need to address in our data preparation.\n",
        "*   Second, many of our features have missing values that we'll need to impute. And since the features are highly skewed, the best imputation strategy is likely median, not mean.\n",
        "*   Finally, we have autocorrelation issues, which means that we should steer clear of linear models, and try a tree-based model instead."
      ],
      "metadata": {
        "id": "EfA25F9gNTZ3"
      }
    },
    {
      "cell_type": "markdown",
      "source": [
        "###1.3- Split Data\n"
      ],
      "metadata": {
        "id": "S8jmE6nXN8vk"
      }
    },
    {
      "cell_type": "code",
      "source": [
        "target = \"class\"\n",
        "X = df.drop(columns=target)\n",
        "y = df[target]\n",
        "\n",
        "print(\"X shape:\", X.shape)\n",
        "print(\"y shape:\", y.shape)"
      ],
      "metadata": {
        "id": "5J_Gw8dFOBtv",
        "colab": {
          "base_uri": "https://localhost:8080/"
        },
        "outputId": "ecbd014e-441f-44d8-c349-fbe3eed21c10"
      },
      "execution_count": 52,
      "outputs": [
        {
          "output_type": "stream",
          "name": "stdout",
          "text": [
            "X shape: (7027, 64)\n",
            "y shape: (7027,)\n"
          ]
        }
      ]
    },
    {
      "cell_type": "code",
      "source": [
        "X_train, X_test, y_train, y_test = train_test_split(X, y, test_size=0.2, random_state=42)\n",
        "\n",
        "print(\"X_train shape:\", X_train.shape)\n",
        "print(\"y_train shape:\", y_train.shape)\n",
        "print(\"X_test shape:\", X_test.shape)\n",
        "print(\"y_test shape:\", y_test.shape)"
      ],
      "metadata": {
        "colab": {
          "base_uri": "https://localhost:8080/"
        },
        "id": "EC8OS_zxZNG7",
        "outputId": "642b03ea-fd8a-4b87-960e-93e7787e77f0"
      },
      "execution_count": 53,
      "outputs": [
        {
          "output_type": "stream",
          "name": "stdout",
          "text": [
            "X_train shape: (5621, 64)\n",
            "y_train shape: (5621,)\n",
            "X_test shape: (1406, 64)\n",
            "y_test shape: (1406,)\n"
          ]
        }
      ]
    },
    {
      "cell_type": "markdown",
      "source": [
        "***Resample***"
      ],
      "metadata": {
        "id": "pFbj8KlJavP5"
      }
    },
    {
      "cell_type": "markdown",
      "source": [
        " ***Under-sampling***"
      ],
      "metadata": {
        "id": "RdNOU-zDaytV"
      }
    },
    {
      "cell_type": "code",
      "source": [
        "under_sampler = RandomUnderSampler(random_state=42)\n",
        "X_train_under, y_train_under = under_sampler.fit_resample(X_train, y_train)\n",
        "print(X_train_under.shape)\n",
        "X_train_under.head()"
      ],
      "metadata": {
        "colab": {
          "base_uri": "https://localhost:8080/",
          "height": 273
        },
        "id": "4o3_m2Vwa635",
        "outputId": "f39cee18-5f65-46aa-b81b-9cbd8526dacf"
      },
      "execution_count": 54,
      "outputs": [
        {
          "output_type": "stream",
          "name": "stdout",
          "text": [
            "(440, 64)\n"
          ]
        },
        {
          "output_type": "execute_result",
          "data": {
            "text/plain": [
              "      Attr1    Attr2    Attr3    Attr4     Attr5     Attr6    Attr7    Attr8  \\\n",
              "0  0.083801  0.69137 -0.12093  0.71466  -37.7370  0.000000  0.15832  0.44641   \n",
              "1  0.475390  0.40938  0.54733  2.37410  302.8700 -0.012545  0.58823  1.44270   \n",
              "2  0.173240  0.29784  0.30042  2.35970   30.7480  0.292910  0.21601  2.35750   \n",
              "3  0.112740  0.52959  0.17520  2.10640   67.9310  0.000000  0.11274  0.88824   \n",
              "4  0.346030  0.39724  0.37842  1.96130    6.3365  0.000000  0.43177  1.51740   \n",
              "\n",
              "    Attr9   Attr10  ...   Attr55    Attr56   Attr57   Attr58    Attr59  \\\n",
              "0  3.8944  0.30863  ...  -219.26  0.061055  0.27152  0.96160  0.851650   \n",
              "1  1.1372  0.59062  ...  6707.90  0.460370  0.80491  0.51249  0.000000   \n",
              "2  1.1938  0.70216  ...  5752.10  0.162350  0.24673  0.83765  0.109510   \n",
              "3  1.0380  0.47041  ...  1673.90  0.247870  0.23966  0.76232  0.757990   \n",
              "4  3.7657  0.60276  ...  1589.00  0.125540  0.57408  0.88544  0.005927   \n",
              "\n",
              "    Attr60    Attr61   Attr62  Attr63   Attr64  \n",
              "0  20.8730  179.7600   39.720  9.1893   5.5864  \n",
              "1  29.9560    9.9641  127.850  2.8549  20.9260  \n",
              "2   6.4705    4.6051   62.415  5.8480   2.6996  \n",
              "3  43.6840    5.5789   55.683  6.5550   1.5576  \n",
              "4  12.8870    9.8517   38.157  9.5656  16.5050  \n",
              "\n",
              "[5 rows x 64 columns]"
            ],
            "text/html": [
              "\n",
              "  <div id=\"df-6ae18c5c-f843-4275-828c-6e02018e2c01\" class=\"colab-df-container\">\n",
              "    <div>\n",
              "<style scoped>\n",
              "    .dataframe tbody tr th:only-of-type {\n",
              "        vertical-align: middle;\n",
              "    }\n",
              "\n",
              "    .dataframe tbody tr th {\n",
              "        vertical-align: top;\n",
              "    }\n",
              "\n",
              "    .dataframe thead th {\n",
              "        text-align: right;\n",
              "    }\n",
              "</style>\n",
              "<table border=\"1\" class=\"dataframe\">\n",
              "  <thead>\n",
              "    <tr style=\"text-align: right;\">\n",
              "      <th></th>\n",
              "      <th>Attr1</th>\n",
              "      <th>Attr2</th>\n",
              "      <th>Attr3</th>\n",
              "      <th>Attr4</th>\n",
              "      <th>Attr5</th>\n",
              "      <th>Attr6</th>\n",
              "      <th>Attr7</th>\n",
              "      <th>Attr8</th>\n",
              "      <th>Attr9</th>\n",
              "      <th>Attr10</th>\n",
              "      <th>...</th>\n",
              "      <th>Attr55</th>\n",
              "      <th>Attr56</th>\n",
              "      <th>Attr57</th>\n",
              "      <th>Attr58</th>\n",
              "      <th>Attr59</th>\n",
              "      <th>Attr60</th>\n",
              "      <th>Attr61</th>\n",
              "      <th>Attr62</th>\n",
              "      <th>Attr63</th>\n",
              "      <th>Attr64</th>\n",
              "    </tr>\n",
              "  </thead>\n",
              "  <tbody>\n",
              "    <tr>\n",
              "      <th>0</th>\n",
              "      <td>0.083801</td>\n",
              "      <td>0.69137</td>\n",
              "      <td>-0.12093</td>\n",
              "      <td>0.71466</td>\n",
              "      <td>-37.7370</td>\n",
              "      <td>0.000000</td>\n",
              "      <td>0.15832</td>\n",
              "      <td>0.44641</td>\n",
              "      <td>3.8944</td>\n",
              "      <td>0.30863</td>\n",
              "      <td>...</td>\n",
              "      <td>-219.26</td>\n",
              "      <td>0.061055</td>\n",
              "      <td>0.27152</td>\n",
              "      <td>0.96160</td>\n",
              "      <td>0.851650</td>\n",
              "      <td>20.8730</td>\n",
              "      <td>179.7600</td>\n",
              "      <td>39.720</td>\n",
              "      <td>9.1893</td>\n",
              "      <td>5.5864</td>\n",
              "    </tr>\n",
              "    <tr>\n",
              "      <th>1</th>\n",
              "      <td>0.475390</td>\n",
              "      <td>0.40938</td>\n",
              "      <td>0.54733</td>\n",
              "      <td>2.37410</td>\n",
              "      <td>302.8700</td>\n",
              "      <td>-0.012545</td>\n",
              "      <td>0.58823</td>\n",
              "      <td>1.44270</td>\n",
              "      <td>1.1372</td>\n",
              "      <td>0.59062</td>\n",
              "      <td>...</td>\n",
              "      <td>6707.90</td>\n",
              "      <td>0.460370</td>\n",
              "      <td>0.80491</td>\n",
              "      <td>0.51249</td>\n",
              "      <td>0.000000</td>\n",
              "      <td>29.9560</td>\n",
              "      <td>9.9641</td>\n",
              "      <td>127.850</td>\n",
              "      <td>2.8549</td>\n",
              "      <td>20.9260</td>\n",
              "    </tr>\n",
              "    <tr>\n",
              "      <th>2</th>\n",
              "      <td>0.173240</td>\n",
              "      <td>0.29784</td>\n",
              "      <td>0.30042</td>\n",
              "      <td>2.35970</td>\n",
              "      <td>30.7480</td>\n",
              "      <td>0.292910</td>\n",
              "      <td>0.21601</td>\n",
              "      <td>2.35750</td>\n",
              "      <td>1.1938</td>\n",
              "      <td>0.70216</td>\n",
              "      <td>...</td>\n",
              "      <td>5752.10</td>\n",
              "      <td>0.162350</td>\n",
              "      <td>0.24673</td>\n",
              "      <td>0.83765</td>\n",
              "      <td>0.109510</td>\n",
              "      <td>6.4705</td>\n",
              "      <td>4.6051</td>\n",
              "      <td>62.415</td>\n",
              "      <td>5.8480</td>\n",
              "      <td>2.6996</td>\n",
              "    </tr>\n",
              "    <tr>\n",
              "      <th>3</th>\n",
              "      <td>0.112740</td>\n",
              "      <td>0.52959</td>\n",
              "      <td>0.17520</td>\n",
              "      <td>2.10640</td>\n",
              "      <td>67.9310</td>\n",
              "      <td>0.000000</td>\n",
              "      <td>0.11274</td>\n",
              "      <td>0.88824</td>\n",
              "      <td>1.0380</td>\n",
              "      <td>0.47041</td>\n",
              "      <td>...</td>\n",
              "      <td>1673.90</td>\n",
              "      <td>0.247870</td>\n",
              "      <td>0.23966</td>\n",
              "      <td>0.76232</td>\n",
              "      <td>0.757990</td>\n",
              "      <td>43.6840</td>\n",
              "      <td>5.5789</td>\n",
              "      <td>55.683</td>\n",
              "      <td>6.5550</td>\n",
              "      <td>1.5576</td>\n",
              "    </tr>\n",
              "    <tr>\n",
              "      <th>4</th>\n",
              "      <td>0.346030</td>\n",
              "      <td>0.39724</td>\n",
              "      <td>0.37842</td>\n",
              "      <td>1.96130</td>\n",
              "      <td>6.3365</td>\n",
              "      <td>0.000000</td>\n",
              "      <td>0.43177</td>\n",
              "      <td>1.51740</td>\n",
              "      <td>3.7657</td>\n",
              "      <td>0.60276</td>\n",
              "      <td>...</td>\n",
              "      <td>1589.00</td>\n",
              "      <td>0.125540</td>\n",
              "      <td>0.57408</td>\n",
              "      <td>0.88544</td>\n",
              "      <td>0.005927</td>\n",
              "      <td>12.8870</td>\n",
              "      <td>9.8517</td>\n",
              "      <td>38.157</td>\n",
              "      <td>9.5656</td>\n",
              "      <td>16.5050</td>\n",
              "    </tr>\n",
              "  </tbody>\n",
              "</table>\n",
              "<p>5 rows × 64 columns</p>\n",
              "</div>\n",
              "    <div class=\"colab-df-buttons\">\n",
              "\n",
              "  <div class=\"colab-df-container\">\n",
              "    <button class=\"colab-df-convert\" onclick=\"convertToInteractive('df-6ae18c5c-f843-4275-828c-6e02018e2c01')\"\n",
              "            title=\"Convert this dataframe to an interactive table.\"\n",
              "            style=\"display:none;\">\n",
              "\n",
              "  <svg xmlns=\"http://www.w3.org/2000/svg\" height=\"24px\" viewBox=\"0 -960 960 960\">\n",
              "    <path d=\"M120-120v-720h720v720H120Zm60-500h600v-160H180v160Zm220 220h160v-160H400v160Zm0 220h160v-160H400v160ZM180-400h160v-160H180v160Zm440 0h160v-160H620v160ZM180-180h160v-160H180v160Zm440 0h160v-160H620v160Z\"/>\n",
              "  </svg>\n",
              "    </button>\n",
              "\n",
              "  <style>\n",
              "    .colab-df-container {\n",
              "      display:flex;\n",
              "      gap: 12px;\n",
              "    }\n",
              "\n",
              "    .colab-df-convert {\n",
              "      background-color: #E8F0FE;\n",
              "      border: none;\n",
              "      border-radius: 50%;\n",
              "      cursor: pointer;\n",
              "      display: none;\n",
              "      fill: #1967D2;\n",
              "      height: 32px;\n",
              "      padding: 0 0 0 0;\n",
              "      width: 32px;\n",
              "    }\n",
              "\n",
              "    .colab-df-convert:hover {\n",
              "      background-color: #E2EBFA;\n",
              "      box-shadow: 0px 1px 2px rgba(60, 64, 67, 0.3), 0px 1px 3px 1px rgba(60, 64, 67, 0.15);\n",
              "      fill: #174EA6;\n",
              "    }\n",
              "\n",
              "    .colab-df-buttons div {\n",
              "      margin-bottom: 4px;\n",
              "    }\n",
              "\n",
              "    [theme=dark] .colab-df-convert {\n",
              "      background-color: #3B4455;\n",
              "      fill: #D2E3FC;\n",
              "    }\n",
              "\n",
              "    [theme=dark] .colab-df-convert:hover {\n",
              "      background-color: #434B5C;\n",
              "      box-shadow: 0px 1px 3px 1px rgba(0, 0, 0, 0.15);\n",
              "      filter: drop-shadow(0px 1px 2px rgba(0, 0, 0, 0.3));\n",
              "      fill: #FFFFFF;\n",
              "    }\n",
              "  </style>\n",
              "\n",
              "    <script>\n",
              "      const buttonEl =\n",
              "        document.querySelector('#df-6ae18c5c-f843-4275-828c-6e02018e2c01 button.colab-df-convert');\n",
              "      buttonEl.style.display =\n",
              "        google.colab.kernel.accessAllowed ? 'block' : 'none';\n",
              "\n",
              "      async function convertToInteractive(key) {\n",
              "        const element = document.querySelector('#df-6ae18c5c-f843-4275-828c-6e02018e2c01');\n",
              "        const dataTable =\n",
              "          await google.colab.kernel.invokeFunction('convertToInteractive',\n",
              "                                                    [key], {});\n",
              "        if (!dataTable) return;\n",
              "\n",
              "        const docLinkHtml = 'Like what you see? Visit the ' +\n",
              "          '<a target=\"_blank\" href=https://colab.research.google.com/notebooks/data_table.ipynb>data table notebook</a>'\n",
              "          + ' to learn more about interactive tables.';\n",
              "        element.innerHTML = '';\n",
              "        dataTable['output_type'] = 'display_data';\n",
              "        await google.colab.output.renderOutput(dataTable, element);\n",
              "        const docLink = document.createElement('div');\n",
              "        docLink.innerHTML = docLinkHtml;\n",
              "        element.appendChild(docLink);\n",
              "      }\n",
              "    </script>\n",
              "  </div>\n",
              "\n",
              "\n",
              "<div id=\"df-20c3afd1-27ac-443c-8c53-609b5d61111f\">\n",
              "  <button class=\"colab-df-quickchart\" onclick=\"quickchart('df-20c3afd1-27ac-443c-8c53-609b5d61111f')\"\n",
              "            title=\"Suggest charts\"\n",
              "            style=\"display:none;\">\n",
              "\n",
              "<svg xmlns=\"http://www.w3.org/2000/svg\" height=\"24px\"viewBox=\"0 0 24 24\"\n",
              "     width=\"24px\">\n",
              "    <g>\n",
              "        <path d=\"M19 3H5c-1.1 0-2 .9-2 2v14c0 1.1.9 2 2 2h14c1.1 0 2-.9 2-2V5c0-1.1-.9-2-2-2zM9 17H7v-7h2v7zm4 0h-2V7h2v10zm4 0h-2v-4h2v4z\"/>\n",
              "    </g>\n",
              "</svg>\n",
              "  </button>\n",
              "\n",
              "<style>\n",
              "  .colab-df-quickchart {\n",
              "      --bg-color: #E8F0FE;\n",
              "      --fill-color: #1967D2;\n",
              "      --hover-bg-color: #E2EBFA;\n",
              "      --hover-fill-color: #174EA6;\n",
              "      --disabled-fill-color: #AAA;\n",
              "      --disabled-bg-color: #DDD;\n",
              "  }\n",
              "\n",
              "  [theme=dark] .colab-df-quickchart {\n",
              "      --bg-color: #3B4455;\n",
              "      --fill-color: #D2E3FC;\n",
              "      --hover-bg-color: #434B5C;\n",
              "      --hover-fill-color: #FFFFFF;\n",
              "      --disabled-bg-color: #3B4455;\n",
              "      --disabled-fill-color: #666;\n",
              "  }\n",
              "\n",
              "  .colab-df-quickchart {\n",
              "    background-color: var(--bg-color);\n",
              "    border: none;\n",
              "    border-radius: 50%;\n",
              "    cursor: pointer;\n",
              "    display: none;\n",
              "    fill: var(--fill-color);\n",
              "    height: 32px;\n",
              "    padding: 0;\n",
              "    width: 32px;\n",
              "  }\n",
              "\n",
              "  .colab-df-quickchart:hover {\n",
              "    background-color: var(--hover-bg-color);\n",
              "    box-shadow: 0 1px 2px rgba(60, 64, 67, 0.3), 0 1px 3px 1px rgba(60, 64, 67, 0.15);\n",
              "    fill: var(--button-hover-fill-color);\n",
              "  }\n",
              "\n",
              "  .colab-df-quickchart-complete:disabled,\n",
              "  .colab-df-quickchart-complete:disabled:hover {\n",
              "    background-color: var(--disabled-bg-color);\n",
              "    fill: var(--disabled-fill-color);\n",
              "    box-shadow: none;\n",
              "  }\n",
              "\n",
              "  .colab-df-spinner {\n",
              "    border: 2px solid var(--fill-color);\n",
              "    border-color: transparent;\n",
              "    border-bottom-color: var(--fill-color);\n",
              "    animation:\n",
              "      spin 1s steps(1) infinite;\n",
              "  }\n",
              "\n",
              "  @keyframes spin {\n",
              "    0% {\n",
              "      border-color: transparent;\n",
              "      border-bottom-color: var(--fill-color);\n",
              "      border-left-color: var(--fill-color);\n",
              "    }\n",
              "    20% {\n",
              "      border-color: transparent;\n",
              "      border-left-color: var(--fill-color);\n",
              "      border-top-color: var(--fill-color);\n",
              "    }\n",
              "    30% {\n",
              "      border-color: transparent;\n",
              "      border-left-color: var(--fill-color);\n",
              "      border-top-color: var(--fill-color);\n",
              "      border-right-color: var(--fill-color);\n",
              "    }\n",
              "    40% {\n",
              "      border-color: transparent;\n",
              "      border-right-color: var(--fill-color);\n",
              "      border-top-color: var(--fill-color);\n",
              "    }\n",
              "    60% {\n",
              "      border-color: transparent;\n",
              "      border-right-color: var(--fill-color);\n",
              "    }\n",
              "    80% {\n",
              "      border-color: transparent;\n",
              "      border-right-color: var(--fill-color);\n",
              "      border-bottom-color: var(--fill-color);\n",
              "    }\n",
              "    90% {\n",
              "      border-color: transparent;\n",
              "      border-bottom-color: var(--fill-color);\n",
              "    }\n",
              "  }\n",
              "</style>\n",
              "\n",
              "  <script>\n",
              "    async function quickchart(key) {\n",
              "      const quickchartButtonEl =\n",
              "        document.querySelector('#' + key + ' button');\n",
              "      quickchartButtonEl.disabled = true;  // To prevent multiple clicks.\n",
              "      quickchartButtonEl.classList.add('colab-df-spinner');\n",
              "      try {\n",
              "        const charts = await google.colab.kernel.invokeFunction(\n",
              "            'suggestCharts', [key], {});\n",
              "      } catch (error) {\n",
              "        console.error('Error during call to suggestCharts:', error);\n",
              "      }\n",
              "      quickchartButtonEl.classList.remove('colab-df-spinner');\n",
              "      quickchartButtonEl.classList.add('colab-df-quickchart-complete');\n",
              "    }\n",
              "    (() => {\n",
              "      let quickchartButtonEl =\n",
              "        document.querySelector('#df-20c3afd1-27ac-443c-8c53-609b5d61111f button');\n",
              "      quickchartButtonEl.style.display =\n",
              "        google.colab.kernel.accessAllowed ? 'block' : 'none';\n",
              "    })();\n",
              "  </script>\n",
              "</div>\n",
              "\n",
              "    </div>\n",
              "  </div>\n"
            ]
          },
          "metadata": {},
          "execution_count": 54
        }
      ]
    },
    {
      "cell_type": "code",
      "source": [
        "y_train_under.value_counts(normalize=True)"
      ],
      "metadata": {
        "colab": {
          "base_uri": "https://localhost:8080/"
        },
        "id": "3OyRJTcwd3Pf",
        "outputId": "99c694f3-7a75-4b4a-8eca-064487dcffef"
      },
      "execution_count": 55,
      "outputs": [
        {
          "output_type": "execute_result",
          "data": {
            "text/plain": [
              "False    0.5\n",
              "True     0.5\n",
              "Name: class, dtype: float64"
            ]
          },
          "metadata": {},
          "execution_count": 55
        }
      ]
    },
    {
      "cell_type": "markdown",
      "source": [
        " ***Over-sampling***"
      ],
      "metadata": {
        "id": "JUCSy5_Ah6f9"
      }
    },
    {
      "cell_type": "code",
      "source": [
        "over_sampler = RandomOverSampler(random_state=42)\n",
        "X_train_over, y_train_over = over_sampler.fit_resample(X_train, y_train)\n",
        "print(X_train_over.shape)\n",
        "X_train_over.head()"
      ],
      "metadata": {
        "colab": {
          "base_uri": "https://localhost:8080/",
          "height": 273
        },
        "id": "QIaiSezeh17m",
        "outputId": "222ce319-9466-4c6c-8c35-f9921f773bd9"
      },
      "execution_count": 56,
      "outputs": [
        {
          "output_type": "stream",
          "name": "stdout",
          "text": [
            "(10802, 64)\n"
          ]
        },
        {
          "output_type": "execute_result",
          "data": {
            "text/plain": [
              "      Attr1     Attr2     Attr3     Attr4       Attr5     Attr6     Attr7  \\\n",
              "0  0.535540  0.052232  0.441390  10.49400  165.210000  0.000000  0.535540   \n",
              "1  0.000681  0.486750 -0.017475   0.94759   -5.587200  0.032626  0.000681   \n",
              "2  0.081678  0.422160  0.456520   2.70710   -0.063859  0.000000  0.101790   \n",
              "3  0.172720  0.159200  0.627720   5.13760   16.825000  0.000000  0.172720   \n",
              "4  0.070920  0.826400 -0.091116   0.71330  -85.703000  0.000000  0.070920   \n",
              "\n",
              "      Attr8    Attr9   Attr10  ...   Attr55    Attr56    Attr57   Attr58  \\\n",
              "0  18.14500  1.81560  0.94777  ...  27537.0  0.536310  0.565050  0.48781   \n",
              "1   0.45175  0.99660  0.21989  ...   -262.9 -0.003411  0.003096  1.00340   \n",
              "2   1.36880  1.97560  0.57784  ...   2266.8  0.044539  0.141350  0.94900   \n",
              "3   5.28150  1.93310  0.84080  ...   1421.6  0.097010  0.205430  0.91067   \n",
              "4   0.21007  0.79853  0.17360  ...  -3796.8  0.102350  0.408520  0.91186   \n",
              "\n",
              "     Attr59    Attr60   Attr61    Attr62   Attr63  Attr64  \n",
              "0  0.000000   25.4630   4.6517    9.3465  39.0520  3.5452  \n",
              "1  0.697370  106.4600  13.3880   35.6920  10.2260  4.9842  \n",
              "2  0.000000    4.3322   9.3488   49.4080   7.3874  7.1565  \n",
              "3  0.008902    3.5406   9.2799   28.6460  12.7420  8.7645  \n",
              "4  1.896600   11.1470   6.0414  145.2700   2.5126  1.0326  \n",
              "\n",
              "[5 rows x 64 columns]"
            ],
            "text/html": [
              "\n",
              "  <div id=\"df-2bcdd5e8-1dc6-4a80-aaf8-22c82edb1dda\" class=\"colab-df-container\">\n",
              "    <div>\n",
              "<style scoped>\n",
              "    .dataframe tbody tr th:only-of-type {\n",
              "        vertical-align: middle;\n",
              "    }\n",
              "\n",
              "    .dataframe tbody tr th {\n",
              "        vertical-align: top;\n",
              "    }\n",
              "\n",
              "    .dataframe thead th {\n",
              "        text-align: right;\n",
              "    }\n",
              "</style>\n",
              "<table border=\"1\" class=\"dataframe\">\n",
              "  <thead>\n",
              "    <tr style=\"text-align: right;\">\n",
              "      <th></th>\n",
              "      <th>Attr1</th>\n",
              "      <th>Attr2</th>\n",
              "      <th>Attr3</th>\n",
              "      <th>Attr4</th>\n",
              "      <th>Attr5</th>\n",
              "      <th>Attr6</th>\n",
              "      <th>Attr7</th>\n",
              "      <th>Attr8</th>\n",
              "      <th>Attr9</th>\n",
              "      <th>Attr10</th>\n",
              "      <th>...</th>\n",
              "      <th>Attr55</th>\n",
              "      <th>Attr56</th>\n",
              "      <th>Attr57</th>\n",
              "      <th>Attr58</th>\n",
              "      <th>Attr59</th>\n",
              "      <th>Attr60</th>\n",
              "      <th>Attr61</th>\n",
              "      <th>Attr62</th>\n",
              "      <th>Attr63</th>\n",
              "      <th>Attr64</th>\n",
              "    </tr>\n",
              "  </thead>\n",
              "  <tbody>\n",
              "    <tr>\n",
              "      <th>0</th>\n",
              "      <td>0.535540</td>\n",
              "      <td>0.052232</td>\n",
              "      <td>0.441390</td>\n",
              "      <td>10.49400</td>\n",
              "      <td>165.210000</td>\n",
              "      <td>0.000000</td>\n",
              "      <td>0.535540</td>\n",
              "      <td>18.14500</td>\n",
              "      <td>1.81560</td>\n",
              "      <td>0.94777</td>\n",
              "      <td>...</td>\n",
              "      <td>27537.0</td>\n",
              "      <td>0.536310</td>\n",
              "      <td>0.565050</td>\n",
              "      <td>0.48781</td>\n",
              "      <td>0.000000</td>\n",
              "      <td>25.4630</td>\n",
              "      <td>4.6517</td>\n",
              "      <td>9.3465</td>\n",
              "      <td>39.0520</td>\n",
              "      <td>3.5452</td>\n",
              "    </tr>\n",
              "    <tr>\n",
              "      <th>1</th>\n",
              "      <td>0.000681</td>\n",
              "      <td>0.486750</td>\n",
              "      <td>-0.017475</td>\n",
              "      <td>0.94759</td>\n",
              "      <td>-5.587200</td>\n",
              "      <td>0.032626</td>\n",
              "      <td>0.000681</td>\n",
              "      <td>0.45175</td>\n",
              "      <td>0.99660</td>\n",
              "      <td>0.21989</td>\n",
              "      <td>...</td>\n",
              "      <td>-262.9</td>\n",
              "      <td>-0.003411</td>\n",
              "      <td>0.003096</td>\n",
              "      <td>1.00340</td>\n",
              "      <td>0.697370</td>\n",
              "      <td>106.4600</td>\n",
              "      <td>13.3880</td>\n",
              "      <td>35.6920</td>\n",
              "      <td>10.2260</td>\n",
              "      <td>4.9842</td>\n",
              "    </tr>\n",
              "    <tr>\n",
              "      <th>2</th>\n",
              "      <td>0.081678</td>\n",
              "      <td>0.422160</td>\n",
              "      <td>0.456520</td>\n",
              "      <td>2.70710</td>\n",
              "      <td>-0.063859</td>\n",
              "      <td>0.000000</td>\n",
              "      <td>0.101790</td>\n",
              "      <td>1.36880</td>\n",
              "      <td>1.97560</td>\n",
              "      <td>0.57784</td>\n",
              "      <td>...</td>\n",
              "      <td>2266.8</td>\n",
              "      <td>0.044539</td>\n",
              "      <td>0.141350</td>\n",
              "      <td>0.94900</td>\n",
              "      <td>0.000000</td>\n",
              "      <td>4.3322</td>\n",
              "      <td>9.3488</td>\n",
              "      <td>49.4080</td>\n",
              "      <td>7.3874</td>\n",
              "      <td>7.1565</td>\n",
              "    </tr>\n",
              "    <tr>\n",
              "      <th>3</th>\n",
              "      <td>0.172720</td>\n",
              "      <td>0.159200</td>\n",
              "      <td>0.627720</td>\n",
              "      <td>5.13760</td>\n",
              "      <td>16.825000</td>\n",
              "      <td>0.000000</td>\n",
              "      <td>0.172720</td>\n",
              "      <td>5.28150</td>\n",
              "      <td>1.93310</td>\n",
              "      <td>0.84080</td>\n",
              "      <td>...</td>\n",
              "      <td>1421.6</td>\n",
              "      <td>0.097010</td>\n",
              "      <td>0.205430</td>\n",
              "      <td>0.91067</td>\n",
              "      <td>0.008902</td>\n",
              "      <td>3.5406</td>\n",
              "      <td>9.2799</td>\n",
              "      <td>28.6460</td>\n",
              "      <td>12.7420</td>\n",
              "      <td>8.7645</td>\n",
              "    </tr>\n",
              "    <tr>\n",
              "      <th>4</th>\n",
              "      <td>0.070920</td>\n",
              "      <td>0.826400</td>\n",
              "      <td>-0.091116</td>\n",
              "      <td>0.71330</td>\n",
              "      <td>-85.703000</td>\n",
              "      <td>0.000000</td>\n",
              "      <td>0.070920</td>\n",
              "      <td>0.21007</td>\n",
              "      <td>0.79853</td>\n",
              "      <td>0.17360</td>\n",
              "      <td>...</td>\n",
              "      <td>-3796.8</td>\n",
              "      <td>0.102350</td>\n",
              "      <td>0.408520</td>\n",
              "      <td>0.91186</td>\n",
              "      <td>1.896600</td>\n",
              "      <td>11.1470</td>\n",
              "      <td>6.0414</td>\n",
              "      <td>145.2700</td>\n",
              "      <td>2.5126</td>\n",
              "      <td>1.0326</td>\n",
              "    </tr>\n",
              "  </tbody>\n",
              "</table>\n",
              "<p>5 rows × 64 columns</p>\n",
              "</div>\n",
              "    <div class=\"colab-df-buttons\">\n",
              "\n",
              "  <div class=\"colab-df-container\">\n",
              "    <button class=\"colab-df-convert\" onclick=\"convertToInteractive('df-2bcdd5e8-1dc6-4a80-aaf8-22c82edb1dda')\"\n",
              "            title=\"Convert this dataframe to an interactive table.\"\n",
              "            style=\"display:none;\">\n",
              "\n",
              "  <svg xmlns=\"http://www.w3.org/2000/svg\" height=\"24px\" viewBox=\"0 -960 960 960\">\n",
              "    <path d=\"M120-120v-720h720v720H120Zm60-500h600v-160H180v160Zm220 220h160v-160H400v160Zm0 220h160v-160H400v160ZM180-400h160v-160H180v160Zm440 0h160v-160H620v160ZM180-180h160v-160H180v160Zm440 0h160v-160H620v160Z\"/>\n",
              "  </svg>\n",
              "    </button>\n",
              "\n",
              "  <style>\n",
              "    .colab-df-container {\n",
              "      display:flex;\n",
              "      gap: 12px;\n",
              "    }\n",
              "\n",
              "    .colab-df-convert {\n",
              "      background-color: #E8F0FE;\n",
              "      border: none;\n",
              "      border-radius: 50%;\n",
              "      cursor: pointer;\n",
              "      display: none;\n",
              "      fill: #1967D2;\n",
              "      height: 32px;\n",
              "      padding: 0 0 0 0;\n",
              "      width: 32px;\n",
              "    }\n",
              "\n",
              "    .colab-df-convert:hover {\n",
              "      background-color: #E2EBFA;\n",
              "      box-shadow: 0px 1px 2px rgba(60, 64, 67, 0.3), 0px 1px 3px 1px rgba(60, 64, 67, 0.15);\n",
              "      fill: #174EA6;\n",
              "    }\n",
              "\n",
              "    .colab-df-buttons div {\n",
              "      margin-bottom: 4px;\n",
              "    }\n",
              "\n",
              "    [theme=dark] .colab-df-convert {\n",
              "      background-color: #3B4455;\n",
              "      fill: #D2E3FC;\n",
              "    }\n",
              "\n",
              "    [theme=dark] .colab-df-convert:hover {\n",
              "      background-color: #434B5C;\n",
              "      box-shadow: 0px 1px 3px 1px rgba(0, 0, 0, 0.15);\n",
              "      filter: drop-shadow(0px 1px 2px rgba(0, 0, 0, 0.3));\n",
              "      fill: #FFFFFF;\n",
              "    }\n",
              "  </style>\n",
              "\n",
              "    <script>\n",
              "      const buttonEl =\n",
              "        document.querySelector('#df-2bcdd5e8-1dc6-4a80-aaf8-22c82edb1dda button.colab-df-convert');\n",
              "      buttonEl.style.display =\n",
              "        google.colab.kernel.accessAllowed ? 'block' : 'none';\n",
              "\n",
              "      async function convertToInteractive(key) {\n",
              "        const element = document.querySelector('#df-2bcdd5e8-1dc6-4a80-aaf8-22c82edb1dda');\n",
              "        const dataTable =\n",
              "          await google.colab.kernel.invokeFunction('convertToInteractive',\n",
              "                                                    [key], {});\n",
              "        if (!dataTable) return;\n",
              "\n",
              "        const docLinkHtml = 'Like what you see? Visit the ' +\n",
              "          '<a target=\"_blank\" href=https://colab.research.google.com/notebooks/data_table.ipynb>data table notebook</a>'\n",
              "          + ' to learn more about interactive tables.';\n",
              "        element.innerHTML = '';\n",
              "        dataTable['output_type'] = 'display_data';\n",
              "        await google.colab.output.renderOutput(dataTable, element);\n",
              "        const docLink = document.createElement('div');\n",
              "        docLink.innerHTML = docLinkHtml;\n",
              "        element.appendChild(docLink);\n",
              "      }\n",
              "    </script>\n",
              "  </div>\n",
              "\n",
              "\n",
              "<div id=\"df-25330ace-d38f-48f2-8c7f-f9f0e7d1b8ae\">\n",
              "  <button class=\"colab-df-quickchart\" onclick=\"quickchart('df-25330ace-d38f-48f2-8c7f-f9f0e7d1b8ae')\"\n",
              "            title=\"Suggest charts\"\n",
              "            style=\"display:none;\">\n",
              "\n",
              "<svg xmlns=\"http://www.w3.org/2000/svg\" height=\"24px\"viewBox=\"0 0 24 24\"\n",
              "     width=\"24px\">\n",
              "    <g>\n",
              "        <path d=\"M19 3H5c-1.1 0-2 .9-2 2v14c0 1.1.9 2 2 2h14c1.1 0 2-.9 2-2V5c0-1.1-.9-2-2-2zM9 17H7v-7h2v7zm4 0h-2V7h2v10zm4 0h-2v-4h2v4z\"/>\n",
              "    </g>\n",
              "</svg>\n",
              "  </button>\n",
              "\n",
              "<style>\n",
              "  .colab-df-quickchart {\n",
              "      --bg-color: #E8F0FE;\n",
              "      --fill-color: #1967D2;\n",
              "      --hover-bg-color: #E2EBFA;\n",
              "      --hover-fill-color: #174EA6;\n",
              "      --disabled-fill-color: #AAA;\n",
              "      --disabled-bg-color: #DDD;\n",
              "  }\n",
              "\n",
              "  [theme=dark] .colab-df-quickchart {\n",
              "      --bg-color: #3B4455;\n",
              "      --fill-color: #D2E3FC;\n",
              "      --hover-bg-color: #434B5C;\n",
              "      --hover-fill-color: #FFFFFF;\n",
              "      --disabled-bg-color: #3B4455;\n",
              "      --disabled-fill-color: #666;\n",
              "  }\n",
              "\n",
              "  .colab-df-quickchart {\n",
              "    background-color: var(--bg-color);\n",
              "    border: none;\n",
              "    border-radius: 50%;\n",
              "    cursor: pointer;\n",
              "    display: none;\n",
              "    fill: var(--fill-color);\n",
              "    height: 32px;\n",
              "    padding: 0;\n",
              "    width: 32px;\n",
              "  }\n",
              "\n",
              "  .colab-df-quickchart:hover {\n",
              "    background-color: var(--hover-bg-color);\n",
              "    box-shadow: 0 1px 2px rgba(60, 64, 67, 0.3), 0 1px 3px 1px rgba(60, 64, 67, 0.15);\n",
              "    fill: var(--button-hover-fill-color);\n",
              "  }\n",
              "\n",
              "  .colab-df-quickchart-complete:disabled,\n",
              "  .colab-df-quickchart-complete:disabled:hover {\n",
              "    background-color: var(--disabled-bg-color);\n",
              "    fill: var(--disabled-fill-color);\n",
              "    box-shadow: none;\n",
              "  }\n",
              "\n",
              "  .colab-df-spinner {\n",
              "    border: 2px solid var(--fill-color);\n",
              "    border-color: transparent;\n",
              "    border-bottom-color: var(--fill-color);\n",
              "    animation:\n",
              "      spin 1s steps(1) infinite;\n",
              "  }\n",
              "\n",
              "  @keyframes spin {\n",
              "    0% {\n",
              "      border-color: transparent;\n",
              "      border-bottom-color: var(--fill-color);\n",
              "      border-left-color: var(--fill-color);\n",
              "    }\n",
              "    20% {\n",
              "      border-color: transparent;\n",
              "      border-left-color: var(--fill-color);\n",
              "      border-top-color: var(--fill-color);\n",
              "    }\n",
              "    30% {\n",
              "      border-color: transparent;\n",
              "      border-left-color: var(--fill-color);\n",
              "      border-top-color: var(--fill-color);\n",
              "      border-right-color: var(--fill-color);\n",
              "    }\n",
              "    40% {\n",
              "      border-color: transparent;\n",
              "      border-right-color: var(--fill-color);\n",
              "      border-top-color: var(--fill-color);\n",
              "    }\n",
              "    60% {\n",
              "      border-color: transparent;\n",
              "      border-right-color: var(--fill-color);\n",
              "    }\n",
              "    80% {\n",
              "      border-color: transparent;\n",
              "      border-right-color: var(--fill-color);\n",
              "      border-bottom-color: var(--fill-color);\n",
              "    }\n",
              "    90% {\n",
              "      border-color: transparent;\n",
              "      border-bottom-color: var(--fill-color);\n",
              "    }\n",
              "  }\n",
              "</style>\n",
              "\n",
              "  <script>\n",
              "    async function quickchart(key) {\n",
              "      const quickchartButtonEl =\n",
              "        document.querySelector('#' + key + ' button');\n",
              "      quickchartButtonEl.disabled = true;  // To prevent multiple clicks.\n",
              "      quickchartButtonEl.classList.add('colab-df-spinner');\n",
              "      try {\n",
              "        const charts = await google.colab.kernel.invokeFunction(\n",
              "            'suggestCharts', [key], {});\n",
              "      } catch (error) {\n",
              "        console.error('Error during call to suggestCharts:', error);\n",
              "      }\n",
              "      quickchartButtonEl.classList.remove('colab-df-spinner');\n",
              "      quickchartButtonEl.classList.add('colab-df-quickchart-complete');\n",
              "    }\n",
              "    (() => {\n",
              "      let quickchartButtonEl =\n",
              "        document.querySelector('#df-25330ace-d38f-48f2-8c7f-f9f0e7d1b8ae button');\n",
              "      quickchartButtonEl.style.display =\n",
              "        google.colab.kernel.accessAllowed ? 'block' : 'none';\n",
              "    })();\n",
              "  </script>\n",
              "</div>\n",
              "\n",
              "    </div>\n",
              "  </div>\n"
            ]
          },
          "metadata": {},
          "execution_count": 56
        }
      ]
    },
    {
      "cell_type": "code",
      "source": [
        "y_train_over.value_counts(normalize=True)"
      ],
      "metadata": {
        "colab": {
          "base_uri": "https://localhost:8080/"
        },
        "id": "QkOWpTSoiEFy",
        "outputId": "39925707-926d-4e39-c23e-02036c72e8be"
      },
      "execution_count": 57,
      "outputs": [
        {
          "output_type": "execute_result",
          "data": {
            "text/plain": [
              "False    0.5\n",
              "True     0.5\n",
              "Name: class, dtype: float64"
            ]
          },
          "metadata": {},
          "execution_count": 57
        }
      ]
    },
    {
      "cell_type": "markdown",
      "source": [
        "##2- Build Model"
      ],
      "metadata": {
        "id": "OlLWljcmOCcF"
      }
    },
    {
      "cell_type": "markdown",
      "source": [
        "###2.1 Baseline"
      ],
      "metadata": {
        "id": "dgMtsXa2OHPl"
      }
    },
    {
      "cell_type": "code",
      "source": [
        "acc_baseline = y_train.value_counts(normalize=True).max()\n",
        "print(\"Baseline Accuracy:\", round(acc_baseline, 4))"
      ],
      "metadata": {
        "id": "UIkWn6HZOKeI",
        "colab": {
          "base_uri": "https://localhost:8080/"
        },
        "outputId": "3bf7e852-7b3d-41d5-ace9-dc194b744ee2"
      },
      "execution_count": 59,
      "outputs": [
        {
          "output_type": "stream",
          "name": "stdout",
          "text": [
            "Baseline Accuracy: 0.9609\n"
          ]
        }
      ]
    },
    {
      "cell_type": "markdown",
      "source": [
        "###2.2 Decision Tree Classifier"
      ],
      "metadata": {
        "id": "fV6BDHRWOODy"
      }
    },
    {
      "cell_type": "code",
      "source": [
        "# Fit on `X_train`, `y_train`\n",
        "model_reg = make_pipeline(\n",
        "    SimpleImputer(strategy=\"median\"),\n",
        "    DecisionTreeClassifier(random_state=42)\n",
        ")\n",
        "model_reg.fit(X_train, y_train)\n",
        "\n",
        "# Fit on `X_train_under`, `y_train_under`\n",
        "model_under = make_pipeline(\n",
        "    SimpleImputer(strategy=\"median\"),\n",
        "    DecisionTreeClassifier(random_state=42)\n",
        ")\n",
        "model_under.fit(X_train_under, y_train_under)\n",
        "\n",
        "# Fit on `X_train_over`, `y_train_over`\n",
        "model_over = make_pipeline(\n",
        "    SimpleImputer(strategy=\"median\"),\n",
        "    DecisionTreeClassifier(random_state=42)\n",
        ")\n",
        "model_over.fit(X_train_over, y_train_over)"
      ],
      "metadata": {
        "id": "14lBaasgORqX",
        "colab": {
          "base_uri": "https://localhost:8080/",
          "height": 126
        },
        "outputId": "dab74ca3-b8be-4a33-8c09-00444c483260"
      },
      "execution_count": 60,
      "outputs": [
        {
          "output_type": "execute_result",
          "data": {
            "text/plain": [
              "Pipeline(steps=[('simpleimputer', SimpleImputer(strategy='median')),\n",
              "                ('decisiontreeclassifier',\n",
              "                 DecisionTreeClassifier(random_state=42))])"
            ],
            "text/html": [
              "<style>#sk-container-id-1 {color: black;background-color: white;}#sk-container-id-1 pre{padding: 0;}#sk-container-id-1 div.sk-toggleable {background-color: white;}#sk-container-id-1 label.sk-toggleable__label {cursor: pointer;display: block;width: 100%;margin-bottom: 0;padding: 0.3em;box-sizing: border-box;text-align: center;}#sk-container-id-1 label.sk-toggleable__label-arrow:before {content: \"▸\";float: left;margin-right: 0.25em;color: #696969;}#sk-container-id-1 label.sk-toggleable__label-arrow:hover:before {color: black;}#sk-container-id-1 div.sk-estimator:hover label.sk-toggleable__label-arrow:before {color: black;}#sk-container-id-1 div.sk-toggleable__content {max-height: 0;max-width: 0;overflow: hidden;text-align: left;background-color: #f0f8ff;}#sk-container-id-1 div.sk-toggleable__content pre {margin: 0.2em;color: black;border-radius: 0.25em;background-color: #f0f8ff;}#sk-container-id-1 input.sk-toggleable__control:checked~div.sk-toggleable__content {max-height: 200px;max-width: 100%;overflow: auto;}#sk-container-id-1 input.sk-toggleable__control:checked~label.sk-toggleable__label-arrow:before {content: \"▾\";}#sk-container-id-1 div.sk-estimator input.sk-toggleable__control:checked~label.sk-toggleable__label {background-color: #d4ebff;}#sk-container-id-1 div.sk-label input.sk-toggleable__control:checked~label.sk-toggleable__label {background-color: #d4ebff;}#sk-container-id-1 input.sk-hidden--visually {border: 0;clip: rect(1px 1px 1px 1px);clip: rect(1px, 1px, 1px, 1px);height: 1px;margin: -1px;overflow: hidden;padding: 0;position: absolute;width: 1px;}#sk-container-id-1 div.sk-estimator {font-family: monospace;background-color: #f0f8ff;border: 1px dotted black;border-radius: 0.25em;box-sizing: border-box;margin-bottom: 0.5em;}#sk-container-id-1 div.sk-estimator:hover {background-color: #d4ebff;}#sk-container-id-1 div.sk-parallel-item::after {content: \"\";width: 100%;border-bottom: 1px solid gray;flex-grow: 1;}#sk-container-id-1 div.sk-label:hover label.sk-toggleable__label {background-color: #d4ebff;}#sk-container-id-1 div.sk-serial::before {content: \"\";position: absolute;border-left: 1px solid gray;box-sizing: border-box;top: 0;bottom: 0;left: 50%;z-index: 0;}#sk-container-id-1 div.sk-serial {display: flex;flex-direction: column;align-items: center;background-color: white;padding-right: 0.2em;padding-left: 0.2em;position: relative;}#sk-container-id-1 div.sk-item {position: relative;z-index: 1;}#sk-container-id-1 div.sk-parallel {display: flex;align-items: stretch;justify-content: center;background-color: white;position: relative;}#sk-container-id-1 div.sk-item::before, #sk-container-id-1 div.sk-parallel-item::before {content: \"\";position: absolute;border-left: 1px solid gray;box-sizing: border-box;top: 0;bottom: 0;left: 50%;z-index: -1;}#sk-container-id-1 div.sk-parallel-item {display: flex;flex-direction: column;z-index: 1;position: relative;background-color: white;}#sk-container-id-1 div.sk-parallel-item:first-child::after {align-self: flex-end;width: 50%;}#sk-container-id-1 div.sk-parallel-item:last-child::after {align-self: flex-start;width: 50%;}#sk-container-id-1 div.sk-parallel-item:only-child::after {width: 0;}#sk-container-id-1 div.sk-dashed-wrapped {border: 1px dashed gray;margin: 0 0.4em 0.5em 0.4em;box-sizing: border-box;padding-bottom: 0.4em;background-color: white;}#sk-container-id-1 div.sk-label label {font-family: monospace;font-weight: bold;display: inline-block;line-height: 1.2em;}#sk-container-id-1 div.sk-label-container {text-align: center;}#sk-container-id-1 div.sk-container {/* jupyter's `normalize.less` sets `[hidden] { display: none; }` but bootstrap.min.css set `[hidden] { display: none !important; }` so we also need the `!important` here to be able to override the default hidden behavior on the sphinx rendered scikit-learn.org. See: https://github.com/scikit-learn/scikit-learn/issues/21755 */display: inline-block !important;position: relative;}#sk-container-id-1 div.sk-text-repr-fallback {display: none;}</style><div id=\"sk-container-id-1\" class=\"sk-top-container\"><div class=\"sk-text-repr-fallback\"><pre>Pipeline(steps=[(&#x27;simpleimputer&#x27;, SimpleImputer(strategy=&#x27;median&#x27;)),\n",
              "                (&#x27;decisiontreeclassifier&#x27;,\n",
              "                 DecisionTreeClassifier(random_state=42))])</pre><b>In a Jupyter environment, please rerun this cell to show the HTML representation or trust the notebook. <br />On GitHub, the HTML representation is unable to render, please try loading this page with nbviewer.org.</b></div><div class=\"sk-container\" hidden><div class=\"sk-item sk-dashed-wrapped\"><div class=\"sk-label-container\"><div class=\"sk-label sk-toggleable\"><input class=\"sk-toggleable__control sk-hidden--visually\" id=\"sk-estimator-id-1\" type=\"checkbox\" ><label for=\"sk-estimator-id-1\" class=\"sk-toggleable__label sk-toggleable__label-arrow\">Pipeline</label><div class=\"sk-toggleable__content\"><pre>Pipeline(steps=[(&#x27;simpleimputer&#x27;, SimpleImputer(strategy=&#x27;median&#x27;)),\n",
              "                (&#x27;decisiontreeclassifier&#x27;,\n",
              "                 DecisionTreeClassifier(random_state=42))])</pre></div></div></div><div class=\"sk-serial\"><div class=\"sk-item\"><div class=\"sk-estimator sk-toggleable\"><input class=\"sk-toggleable__control sk-hidden--visually\" id=\"sk-estimator-id-2\" type=\"checkbox\" ><label for=\"sk-estimator-id-2\" class=\"sk-toggleable__label sk-toggleable__label-arrow\">SimpleImputer</label><div class=\"sk-toggleable__content\"><pre>SimpleImputer(strategy=&#x27;median&#x27;)</pre></div></div></div><div class=\"sk-item\"><div class=\"sk-estimator sk-toggleable\"><input class=\"sk-toggleable__control sk-hidden--visually\" id=\"sk-estimator-id-3\" type=\"checkbox\" ><label for=\"sk-estimator-id-3\" class=\"sk-toggleable__label sk-toggleable__label-arrow\">DecisionTreeClassifier</label><div class=\"sk-toggleable__content\"><pre>DecisionTreeClassifier(random_state=42)</pre></div></div></div></div></div></div></div>"
            ]
          },
          "metadata": {},
          "execution_count": 60
        }
      ]
    },
    {
      "cell_type": "markdown",
      "source": [
        "###2.3 Evaluate: Accuracy Score\n"
      ],
      "metadata": {
        "id": "lnEF2VlJOSho"
      }
    },
    {
      "cell_type": "code",
      "source": [
        "models = {'model_reg': model_reg, 'model_under': model_under, 'model_over': model_over}\n",
        "\n",
        "for m_name, m in models.items():\n",
        "    acc_train = m.score(X_train, y_train)\n",
        "    acc_test = m.score(X_test, y_test)\n",
        "\n",
        "    print(f\"{m_name} - Training Accuracy: {round(acc_train, 4)}\")\n",
        "    print(f\"{m_name} - Test Accuracy: {round(acc_test, 4)}\")\n",
        "    if acc_test > acc_baseline:\n",
        "        print(f\"{m_name} has a higher test accuracy than the baseline.\")\n",
        "    else:\n",
        "        print(f\"{m_name} does not have a higher test accuracy than the baseline.\")\n",
        "    print(\"------------------------------------\")"
      ],
      "metadata": {
        "id": "GzDxaOUOOVc3",
        "colab": {
          "base_uri": "https://localhost:8080/"
        },
        "outputId": "5f692cfc-515d-4304-f382-c6f8247b92b5"
      },
      "execution_count": 65,
      "outputs": [
        {
          "output_type": "stream",
          "name": "stdout",
          "text": [
            "model_reg - Training Accuracy: 1.0\n",
            "model_reg - Test Accuracy: 0.9573\n",
            "model_reg does not have a higher test accuracy than the baseline.\n",
            "------------------------------------\n",
            "model_under - Training Accuracy: 0.8098\n",
            "model_under - Test Accuracy: 0.7845\n",
            "model_under does not have a higher test accuracy than the baseline.\n",
            "------------------------------------\n",
            "model_over - Training Accuracy: 1.0\n",
            "model_over - Test Accuracy: 0.9701\n",
            "model_over has a higher test accuracy than the baseline.\n",
            "------------------------------------\n"
          ]
        }
      ]
    },
    {
      "cell_type": "markdown",
      "source": [
        "The model with oversampling passes the baseline"
      ],
      "metadata": {
        "id": "-qOuBHxXsUDY"
      }
    },
    {
      "cell_type": "code",
      "source": [
        "# Plot confusion matrix\n",
        "ConfusionMatrixDisplay.from_estimator(model_over, X_test, y_test);"
      ],
      "metadata": {
        "colab": {
          "base_uri": "https://localhost:8080/",
          "height": 449
        },
        "id": "wU-BTkZPwOuD",
        "outputId": "de8b8a78-ad65-410d-dcac-446fb0a6ac84"
      },
      "execution_count": 66,
      "outputs": [
        {
          "output_type": "display_data",
          "data": {
            "text/plain": [
              "<Figure size 640x480 with 2 Axes>"
            ],
            "image/png": "[encoded data removed]"
          },
          "metadata": {}
        }
      ]
    },
    {
      "cell_type": "code",
      "source": [
        "depth = model_over.named_steps[\"decisiontreeclassifier\"].get_depth()\n",
        "print(depth)"
      ],
      "metadata": {
        "colab": {
          "base_uri": "https://localhost:8080/"
        },
        "id": "cqIvB6RMxAmX",
        "outputId": "d41fbd9b-7fe5-4e32-b03b-2a6cf5448c36"
      },
      "execution_count": 67,
      "outputs": [
        {
          "output_type": "stream",
          "name": "stdout",
          "text": [
            "28\n"
          ]
        }
      ]
    },
    {
      "cell_type": "markdown",
      "source": [
        "##3- Communicate Results"
      ],
      "metadata": {
        "id": "PjBef53EOWCn"
      }
    },
    {
      "cell_type": "markdown",
      "source": [
        "The 15 most important features for model_over"
      ],
      "metadata": {
        "id": "LREa7-g3y_5_"
      }
    },
    {
      "cell_type": "code",
      "source": [
        "# Get importances\n",
        "importances = model_over.named_steps[\"decisiontreeclassifier\"].feature_importances_\n",
        "\n",
        "# Put importances into a Series\n",
        "feat_imp = pd.Series(importances, index=X_train.columns).sort_values(ascending=False)\n",
        "\n",
        "# Plot series\n",
        "feat_imp.head(15).plot(kind=\"barh\")\n",
        "plt.xlabel(\"Gini Importance\")\n",
        "plt.ylabel(\"Feature\")\n",
        "plt.title(\"model_over Feature Importance\");"
      ],
      "metadata": {
        "id": "T5qDGHiqOaNn",
        "colab": {
          "base_uri": "https://localhost:8080/",
          "height": 472
        },
        "outputId": "e3e2d268-9b1f-4ea3-ea98-61b1ba898d66"
      },
      "execution_count": 69,
      "outputs": [
        {
          "output_type": "display_data",
          "data": {
            "text/plain": [
              "<Figure size 640x480 with 1 Axes>"
            ],
            "image/png": "[encoded data removed]"
          },
          "metadata": {}
        }
      ]
    },
    {
      "cell_type": "markdown",
      "source": [
        "Save the best-performing model"
      ],
      "metadata": {
        "id": "HhdB4fW-1W6y"
      }
    },
    {
      "cell_type": "code",
      "source": [
        "with open(\"model_over-Polish-companies-1year.pkl\", \"wb\") as f:\n",
        "    pickle.dump(model_over, f)"
      ],
      "metadata": {
        "id": "tnIcB0MLzDZl"
      },
      "execution_count": 70,
      "outputs": []
    }
  ]
}